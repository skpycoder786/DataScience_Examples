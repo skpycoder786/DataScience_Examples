{
 "cells": [
  {
   "cell_type": "markdown",
   "metadata": {},
   "source": [
    "# \"EXAMPLES OF numpy MODULE\""
   ]
  },
  {
   "cell_type": "markdown",
   "metadata": {},
   "source": [
    "# STARTING OF LECTURE-25:"
   ]
  },
  {
   "cell_type": "code",
   "execution_count": 50,
   "metadata": {},
   "outputs": [
    {
     "name": "stdout",
     "output_type": "stream",
     "text": [
      "[1 2 3 4 5 6 7 8]\n"
     ]
    }
   ],
   "source": [
    "import numpy\n",
    "#.array() Fn.\n",
    "# creating array from list\n",
    "arr1=numpy.array([1,2,3,4,5,6,7,8])\n",
    "print(arr1)                 "
   ]
  },
  {
   "cell_type": "code",
   "execution_count": 1,
   "metadata": {},
   "outputs": [
    {
     "name": "stdout",
     "output_type": "stream",
     "text": [
      "[1 2 3 4]\n"
     ]
    }
   ],
   "source": [
    "import numpy as np\n",
    "# creating array from tuple\n",
    "arr2=np.array((1,2,3,4))\n",
    "print(arr2)"
   ]
  },
  {
   "cell_type": "code",
   "execution_count": 68,
   "metadata": {},
   "outputs": [
    {
     "name": "stdout",
     "output_type": "stream",
     "text": [
      "4\n",
      "index of maxValue:  3\n",
      "1\n",
      "index of minValue:  0\n",
      "Sum of array elements:  10\n"
     ]
    }
   ],
   "source": [
    "# continue from above....\n",
    "# finding Maximum and Minimum for 1D array\n",
    "# And indexValues of both\n",
    "# sum of array\n",
    "print(arr2.max())\n",
    "print(\"index of maxValue: \",arr2.argmax())\n",
    "print(arr2.min())\n",
    "print(\"index of minValue: \",arr2.argmin())\n",
    "print(\"Sum of array elements: \", arr2.sum())"
   ]
  },
  {
   "cell_type": "code",
   "execution_count": 51,
   "metadata": {},
   "outputs": [
    {
     "name": "stdout",
     "output_type": "stream",
     "text": [
      "3\n",
      "1\n"
     ]
    }
   ],
   "source": [
    "# using arr1\n",
    "# access through indexing\n",
    "# same as list for 1D array\n",
    "print(arr1[2])\n",
    "print(arr1[0])"
   ]
  },
  {
   "cell_type": "code",
   "execution_count": 52,
   "metadata": {},
   "outputs": [
    {
     "name": "stdout",
     "output_type": "stream",
     "text": [
      "[1 2 3 4 5 6 7 8]\n",
      "[1 2]\n",
      "[5 6 7 8]\n",
      "[5 6 7]\n"
     ]
    }
   ],
   "source": [
    "# using arr1\n",
    "# slicing of 1D array\n",
    "# same as list for 1D array\n",
    "print(arr1[:])\n",
    "print(arr1[:2])\n",
    "print(arr1[4:])\n",
    "print(arr1[-4:-1])"
   ]
  },
  {
   "cell_type": "code",
   "execution_count": 54,
   "metadata": {},
   "outputs": [
    {
     "name": "stdout",
     "output_type": "stream",
     "text": [
      "50\n",
      "[ 1  2 50 50 50 50  7  8]\n"
     ]
    }
   ],
   "source": [
    "# array's element are mutable or we can change the values in array\n",
    "x=arr1[2:6]=50\n",
    "print(x)\n",
    "print(arr1)"
   ]
  },
  {
   "cell_type": "code",
   "execution_count": 58,
   "metadata": {},
   "outputs": [
    {
     "name": "stdout",
     "output_type": "stream",
     "text": [
      "[ 1  2 50 50 50 50  7  8]\n",
      "80\n",
      "[ 1  2 50 50 80 80 80  8]\n"
     ]
    }
   ],
   "source": [
    "# coping an array\n",
    "y=arr1.copy()\n",
    "print(y)\n",
    "z=y[4:7]=80\n",
    "print(z)\n",
    "print(y)"
   ]
  },
  {
   "cell_type": "code",
   "execution_count": 64,
   "metadata": {},
   "outputs": [
    {
     "name": "stdout",
     "output_type": "stream",
     "text": [
      "[ 1  2 50 50 80 80 80  8]\n",
      "[False False  True  True  True  True  True False]\n",
      "[50 50 80 80 80]\n",
      "[80 80 80  8]\n"
     ]
    }
   ],
   "source": [
    "# Conditional selection of elements\n",
    "print(y)\n",
    "# in case of returning result through indexes\n",
    "print(y > 40)\n",
    "# in case of returning result directly\n",
    "print(y[y > 40])\n",
    "# another condition\n",
    "print(y[y%4 == 0])"
   ]
  },
  {
   "cell_type": "code",
   "execution_count": 74,
   "metadata": {},
   "outputs": [
    {
     "name": "stdout",
     "output_type": "stream",
     "text": [
      "[ 0.84147098  0.90929743 -0.26237485 -0.26237485 -0.99388865 -0.99388865\n",
      " -0.99388865  0.98935825]\n",
      "[0.         0.69314718 3.91202301 3.91202301 4.38202663 4.38202663\n",
      " 4.38202663 2.07944154]\n",
      "80\n",
      "1\n"
     ]
    }
   ],
   "source": [
    "# Operation on elements of an array\n",
    "print(np.sin(y))\n",
    "print(np.log(y))\n",
    "print(np.max(y))\n",
    "print(np.min(y))"
   ]
  },
  {
   "cell_type": "code",
   "execution_count": 79,
   "metadata": {},
   "outputs": [
    {
     "name": "stdout",
     "output_type": "stream",
     "text": [
      "Common elements between both arrays :\n",
      " [1 2 3 4]\n"
     ]
    }
   ],
   "source": [
    "# common between two arrays\n",
    "a = np.array([1,1,2,3,4,5,6])\n",
    "b = np.array([0,2,1,3,4,8,9])\n",
    "print(\"Common elements between both arrays :\\n\",np.intersect1d(a,b))"
   ]
  },
  {
   "cell_type": "code",
   "execution_count": 20,
   "metadata": {},
   "outputs": [
    {
     "name": "stdout",
     "output_type": "stream",
     "text": [
      "<class 'numpy.ndarray'>\n",
      "<class 'numpy.ndarray'>\n"
     ]
    }
   ],
   "source": [
    "# types\n",
    "print(type(arr1))    #Module imported already 1st line & keep short as 'np' in 2nd line .\n",
    "print(type(arr2))"
   ]
  },
  {
   "cell_type": "code",
   "execution_count": 24,
   "metadata": {},
   "outputs": [
    {
     "name": "stdout",
     "output_type": "stream",
     "text": [
      "[[1 2 3]\n",
      " [4 5 6]]\n"
     ]
    }
   ],
   "source": [
    "# 2D array\n",
    "arr2D=np.array([[1,2,3], [4,5,6]])     #Module imported already 1st line & keep short as 'np' in 2nd line .\n",
    "print(arr2D)"
   ]
  },
  {
   "cell_type": "code",
   "execution_count": 69,
   "metadata": {},
   "outputs": [
    {
     "name": "stdout",
     "output_type": "stream",
     "text": [
      "6\n",
      "1\n",
      "index of minValue:  0\n",
      "Sum of array elements:  21\n"
     ]
    }
   ],
   "source": [
    "# continue from above....\n",
    "# finding Maximum and Minimum for 2D array\n",
    "print(arr2D.max())\n",
    "print(arr2D.min())\n",
    "print(\"index of minValue: \",arr2D.argmin())\n",
    "print(\"Sum of array elements: \", arr2D.sum())"
   ]
  },
  {
   "cell_type": "code",
   "execution_count": 65,
   "metadata": {},
   "outputs": [
    {
     "name": "stdout",
     "output_type": "stream",
     "text": [
      "3\n",
      "4\n"
     ]
    }
   ],
   "source": [
    "# access through indexing of 2D array\n",
    "print(arr2D[0,2])\n",
    "print(arr2D[1,0])"
   ]
  },
  {
   "cell_type": "code",
   "execution_count": 67,
   "metadata": {},
   "outputs": [
    {
     "name": "stdout",
     "output_type": "stream",
     "text": [
      "[[1 2]] \n",
      "\n",
      "[[2 3]\n",
      " [5 6]]\n"
     ]
    }
   ],
   "source": [
    "# slicing of 2D array\n",
    "print(arr2D[:1,:2],\"\\n\")\n",
    "print(arr2D[:,1:])"
   ]
  },
  {
   "cell_type": "code",
   "execution_count": 78,
   "metadata": {},
   "outputs": [
    {
     "name": "stdout",
     "output_type": "stream",
     "text": [
      "[[1 2]\n",
      " [3 4]]\n",
      "[[5 6]\n",
      " [3 7]]\n",
      "Common elements between both arrays :\n",
      " [3]\n"
     ]
    }
   ],
   "source": [
    "# common between two arrays\n",
    "c=np.array([[1,2],[3,4]])\n",
    "print(c)\n",
    "d=np.array([[5,6],[3,7]])\n",
    "print(d)\n",
    "print(\"Common elements between both arrays :\\n\",np.intersect1d(c,d))"
   ]
  },
  {
   "cell_type": "code",
   "execution_count": 26,
   "metadata": {},
   "outputs": [
    {
     "name": "stdout",
     "output_type": "stream",
     "text": [
      "[[[ 1  2  3]\n",
      "  [ 4  5  6]]\n",
      "\n",
      " [[ 7  8  9]\n",
      "  [10 11 12]]]\n"
     ]
    }
   ],
   "source": [
    "# 3D array\n",
    "arr3D=np.array([[[1,2,3],[4,5,6]], [[7,8,9],[10,11,12]]])\n",
    "print(arr3D)"
   ]
  },
  {
   "cell_type": "code",
   "execution_count": 70,
   "metadata": {},
   "outputs": [
    {
     "name": "stdout",
     "output_type": "stream",
     "text": [
      "12\n",
      "index of maxValue:  11\n",
      "1\n",
      "Sum of array elements:  78\n"
     ]
    }
   ],
   "source": [
    "# continue from above....\n",
    "# finding Maximum and Minimum for 3D array\n",
    "print(arr3D.max())\n",
    "print(\"index of maxValue: \",arr3D.argmax())\n",
    "print(arr3D.min())\n",
    "print(\"Sum of array elements: \", arr3D.sum())"
   ]
  },
  {
   "cell_type": "code",
   "execution_count": 29,
   "metadata": {},
   "outputs": [
    {
     "name": "stdout",
     "output_type": "stream",
     "text": [
      "[[[[ 1  2  3]\n",
      "   [ 4  5  6]]\n",
      "\n",
      "  [[ 7  8  9]\n",
      "   [10 11 12]]]\n",
      "\n",
      "\n",
      " [[[13 14 15]\n",
      "   [16 17 18]]\n",
      "\n",
      "  [[19 20 21]\n",
      "   [22 23 24]]]]\n"
     ]
    }
   ],
   "source": [
    "# 4D array\n",
    "arr4D=np.array([[[[1,2,3],[4,5,6]], [[7,8,9],[10,11,12]]],[[[13,14,15],[16,17,18]], [[19,20,21],[22,23,24]]]])\n",
    "print(arr4D)"
   ]
  },
  {
   "cell_type": "code",
   "execution_count": 71,
   "metadata": {},
   "outputs": [
    {
     "name": "stdout",
     "output_type": "stream",
     "text": [
      "24\n",
      "index of maxValue:  23\n",
      "1\n",
      "index of minValue:  0\n",
      "Sum of array elements:  300\n"
     ]
    }
   ],
   "source": [
    "# continue from above....\n",
    "# finding Maximum and Minimum for 4D array\n",
    "print(arr4D.max())\n",
    "print(\"index of maxValue: \",arr4D.argmax())\n",
    "print(arr4D.min())\n",
    "print(\"index of minValue: \",arr4D.argmin())\n",
    "print(\"Sum of array elements: \", arr4D.sum())"
   ]
  },
  {
   "cell_type": "code",
   "execution_count": 31,
   "metadata": {},
   "outputs": [
    {
     "name": "stdout",
     "output_type": "stream",
     "text": [
      "no. of dimensions in arr2D :  2\n",
      "shape of arr2D :  (2, 3)\n",
      "size of arr2D :  6\n"
     ]
    }
   ],
   "source": [
    "#.ndim(), .shape(), .size() Fn.s\n",
    "# no. of dimensions, shape and size of an 2D array\n",
    "print(\"no. of dimensions in arr2D : \",np.ndim(arr2D))  # it is a 2D array.\n",
    "print(\"shape of arr2D : \",np.shape(arr2D)) # 2 rows and 3 columns\n",
    "print(\"size of arr2D : \",np.size(arr2D))   # 2*3=6"
   ]
  },
  {
   "cell_type": "code",
   "execution_count": 26,
   "metadata": {},
   "outputs": [
    {
     "name": "stdout",
     "output_type": "stream",
     "text": [
      "no. of dimensions in arr3D :  3\n",
      "shape of arr3D :  (2, 2, 3)\n",
      "size of arr3D :  12\n"
     ]
    }
   ],
   "source": [
    "# no. of dimensions, shape and size of an 3D array\n",
    "print(\"no. of dimensions in arr3D : \",np.ndim(arr3D))  # it is a 3D array.\n",
    "print(\"shape of arr3D : \",np.shape(arr3D)) # 2 elements+ (2 rows and 3 columns)\n",
    "print(\"size of arr3D : \",np.size(arr3D))   # 2*2*3=12"
   ]
  },
  {
   "cell_type": "code",
   "execution_count": 27,
   "metadata": {},
   "outputs": [
    {
     "name": "stdout",
     "output_type": "stream",
     "text": [
      "[[1. 2. 3.]\n",
      " [4. 5. 6.]]\n"
     ]
    }
   ],
   "source": [
    "# introducing dtype\n",
    "# creating array with list type float\n",
    "arr=np.array([[1,2,3],[4,5,6]], dtype='float')   #dtype means Data type of element\n",
    "print(arr)"
   ]
  },
  {
   "cell_type": "code",
   "execution_count": 8,
   "metadata": {},
   "outputs": [
    {
     "name": "stdout",
     "output_type": "stream",
     "text": [
      "[[[0. 0. 0. 0.]\n",
      "  [0. 0. 0. 0.]\n",
      "  [0. 0. 0. 0.]]\n",
      "\n",
      " [[0. 0. 0. 0.]\n",
      "  [0. 0. 0. 0.]\n",
      "  [0. 0. 0. 0.]]]\n"
     ]
    }
   ],
   "source": [
    "#.zeros() Fn.\n",
    "# Identity matrix\n",
    "# creating a array with all zeros by passing tuples.\n",
    "# If (a,b) passed then 2D or if (a,b,c) passed then 3D arrays will form.\n",
    "arr= np.zeros((2,3,4))\n",
    "print(arr)"
   ]
  },
  {
   "cell_type": "code",
   "execution_count": 9,
   "metadata": {},
   "outputs": [
    {
     "name": "stdout",
     "output_type": "stream",
     "text": [
      "[[[5. 5. 5. 5.]\n",
      "  [5. 5. 5. 5.]\n",
      "  [5. 5. 5. 5.]]\n",
      "\n",
      " [[5. 5. 5. 5.]\n",
      "  [5. 5. 5. 5.]\n",
      "  [5. 5. 5. 5.]]]\n"
     ]
    }
   ],
   "source": [
    "arr= np.zeros((2,3,4)) + 5\n",
    "print(arr)"
   ]
  },
  {
   "cell_type": "code",
   "execution_count": 10,
   "metadata": {},
   "outputs": [
    {
     "name": "stdout",
     "output_type": "stream",
     "text": [
      "[[[1. 1. 1. 1.]\n",
      "  [1. 1. 1. 1.]\n",
      "  [1. 1. 1. 1.]]\n",
      "\n",
      " [[1. 1. 1. 1.]\n",
      "  [1. 1. 1. 1.]\n",
      "  [1. 1. 1. 1.]]]\n"
     ]
    }
   ],
   "source": [
    "# For another identity matrix just like above\n",
    "arr= np.ones((2,3,4))\n",
    "print(arr)"
   ]
  },
  {
   "cell_type": "code",
   "execution_count": 20,
   "metadata": {},
   "outputs": [
    {
     "name": "stdout",
     "output_type": "stream",
     "text": [
      "[[1. 0.]\n",
      " [0. 1.]\n",
      " [0. 0.]\n",
      " [0. 0.]] \n",
      "\n",
      "In case of Square Matrix:\n",
      " [[1. 0. 0. 0.]\n",
      " [0. 1. 0. 0.]\n",
      " [0. 0. 1. 0.]\n",
      " [0. 0. 0. 1.]]\n"
     ]
    }
   ],
   "source": [
    "# For Unity metrix, where one is on main(L->R) diagonal.\n",
    "# Only for 2D Matrix\n",
    "arr=np.eye(4,2)\n",
    "print(arr,\"\\n\")\n",
    "arr=np.eye(4)\n",
    "print(\"In case of Square Matrix:\\n\",arr)"
   ]
  },
  {
   "cell_type": "code",
   "execution_count": 34,
   "metadata": {},
   "outputs": [
    {
     "name": "stdout",
     "output_type": "stream",
     "text": [
      "[[6.+0.j 6.+0.j 6.+0.j]\n",
      " [6.+0.j 6.+0.j 6.+0.j]\n",
      " [6.+0.j 6.+0.j 6.+0.j]]\n"
     ]
    }
   ],
   "source": [
    "#.full() Fn.\n",
    "# creating a constant value array of Complex type.\n",
    "# If (a,b) passed then 2D or if (a,b,c) passed then 3D arrays will form.\n",
    "arr=np.full((3,3), 6, dtype='complex')\n",
    "print(arr)"
   ]
  },
  {
   "cell_type": "markdown",
   "metadata": {},
   "source": [
    "# STARTING OF LECTURE-26:"
   ]
  },
  {
   "cell_type": "code",
   "execution_count": 77,
   "metadata": {},
   "outputs": [
    {
     "name": "stdout",
     "output_type": "stream",
     "text": [
      "creating an array by given tuple with random values:\n",
      " [[0.44588125 0.00332539]\n",
      " [0.11319901 0.1707547 ]]\n"
     ]
    }
   ],
   "source": [
    "#.random.random() Fn.\n",
    "# If (a,b) passed then 2D or if (a,b,c) passed then 3D arrays will form.\n",
    "# all the element's value stand between 1 and 0.\n",
    "# after each run values can be change.\n",
    "arr=np.random.random((2,2))    \n",
    "print(\"creating an array by given tuple with random values:\\n\",arr)"
   ]
  },
  {
   "cell_type": "code",
   "execution_count": 42,
   "metadata": {},
   "outputs": [
    {
     "name": "stdout",
     "output_type": "stream",
     "text": [
      "0\n",
      "5\n",
      "10\n",
      "15\n",
      "20\n",
      "25\n",
      "30\n"
     ]
    }
   ],
   "source": [
    "# previous example of range.\n",
    "for i in range(0,31,5):\n",
    "    print(i)"
   ]
  },
  {
   "cell_type": "code",
   "execution_count": 43,
   "metadata": {},
   "outputs": [
    {
     "name": "stdout",
     "output_type": "stream",
     "text": [
      "[ 0  5 10 15 20 25 30]\n"
     ]
    }
   ],
   "source": [
    "# .arange() Fn.\n",
    "# creating a sequence of integers from 0 to 30 with step of n (here n=5) .\n",
    "arr=np.arange(0,31,5)\n",
    "print(arr)"
   ]
  },
  {
   "cell_type": "code",
   "execution_count": 57,
   "metadata": {},
   "outputs": [
    {
     "name": "stdout",
     "output_type": "stream",
     "text": [
      "[10.5 11.  11.5 12.  12.5 13.  13.5 14.  14.5 15. ]\n",
      "[10. 11. 12. 13. 14. 15. 16. 17. 18. 19. 20.]\n"
     ]
    }
   ],
   "source": [
    "# .linspace() Fn.\n",
    "# creating a sequence of n (here n=10) values in range 10.5 to 15.\n",
    "#then the 1st element of the array is definately 10.5 amd last one is 15.\n",
    "arr=np.linspace(10.5,15,10)\n",
    "print(arr)\n",
    "arr=np.linspace(10,20,11)\n",
    "print(arr)"
   ]
  },
  {
   "cell_type": "code",
   "execution_count": 66,
   "metadata": {},
   "outputs": [
    {
     "name": "stdout",
     "output_type": "stream",
     "text": [
      "orignal array\n",
      " [[ 1  2  3  4]\n",
      " [ 5  6  7  8]\n",
      " [ 9 10 11 12]] \n",
      "\n",
      "reshaped array in 2x2x3 shape\n",
      " [[[ 1  2  3]\n",
      "  [ 4  5  6]]\n",
      "\n",
      " [[ 7  8  9]\n",
      "  [10 11 12]]] \n",
      "\n",
      "reshaped array in 2x6 shape\n",
      " [[ 1  2  3  4  5  6]\n",
      " [ 7  8  9 10 11 12]] \n",
      "\n",
      "back to orignal shape which is 3x4 [[ 1  2  3  4]\n",
      " [ 5  6  7  8]\n",
      " [ 9 10 11 12]] \n",
      "\n"
     ]
    }
   ],
   "source": [
    "# reshape() Method of arrays\n",
    "# reshaping 3X4 array to 2X2X3 array.\n",
    "arr=np.array([[1,2,3,4], [5,6,7,8], [9,10,11,12]])\n",
    "print(\"orignal array\\n\",arr,\"\\n\")\n",
    "newarr1=arr.reshape(2,2,3)\n",
    "print(\"reshaped array in 2x2x3 shape\\n\",newarr1,\"\\n\")\n",
    "newarr2=arr.reshape(2,6)\n",
    "print(\"reshaped array in 2x6 shape\\n\",newarr2,\"\\n\")\n",
    "backtofirstarr=newarr2.reshape(3,4)\n",
    "print(\"back to orignal shape which is 3x4\",backtofirstarr,\"\\n\")"
   ]
  },
  {
   "cell_type": "code",
   "execution_count": 71,
   "metadata": {},
   "outputs": [
    {
     "name": "stdout",
     "output_type": "stream",
     "text": [
      "2D array\n",
      " [[1 2 3]\n",
      " [4 5 6]]\n",
      "After flatten of 2D array, the flattered array is\n",
      " [1 2 3 4 5 6]\n",
      "no. of dimensions in, shape of, size of flattered 2D array are 1 , (6,) , 6\n",
      "\n",
      "\n",
      "3D array\n",
      " [[[ 1  2  3]\n",
      "  [ 4  5  6]]\n",
      "\n",
      " [[ 7  8  9]\n",
      "  [10 11 12]]]\n",
      "After flatten of 3D array, the flattered array is\n",
      " [ 1  2  3  4  5  6  7  8  9 10 11 12]\n",
      "no. of dimensions in, shape of, size of flattered 3D array are 1 , (12,) , 12\n"
     ]
    }
   ],
   "source": [
    "# .flatten() Method of arrays \n",
    "# ndim, size, shape attribute of arrays\n",
    "# Flatten arrays.\n",
    "arr2D=np.array([[1,2,3], [4,5,6]])\n",
    "print(\"2D array\\n\",arr2D)\n",
    "flarr2D=arr2D.flatten()\n",
    "print(\"After flatten of 2D array, the flattered array is\\n\",flarr2D)\n",
    "print(\"no. of dimensions in, shape of, size of flattered 2D array are\",flarr2D.ndim,\",\", flarr2D.shape,\",\", flarr2D.size)\n",
    "print(\"\\n\")\n",
    "arr3D=np.array([[[1,2,3],[4,5,6]], [[7,8,9],[10,11,12]]])\n",
    "print(\"3D array\\n\",arr3D)\n",
    "flarr3D=arr3D.flatten()\n",
    "print(\"After flatten of 3D array, the flattered array is\\n\",flarr3D)\n",
    "print(\"no. of dimensions in, shape of, size of flattered 3D array are\",flarr3D.ndim,\",\", flarr3D.shape,\",\", flarr3D.size)"
   ]
  },
  {
   "cell_type": "code",
   "execution_count": 34,
   "metadata": {},
   "outputs": [
    {
     "data": {
      "text/plain": [
       "array([[[-0.76099857,  1.03091789],\n",
       "        [ 1.65547007, -1.47564068]],\n",
       "\n",
       "       [[ 0.50660824,  0.66991941],\n",
       "        [-1.06988474, -0.37772334]]])"
      ]
     },
     "execution_count": 34,
     "metadata": {},
     "output_type": "execute_result"
    }
   ],
   "source": [
    "import numpy as np\n",
    "# .random.randn() Fn. which can generate random numbers between -1 to 1.\n",
    "# n for negative\n",
    "Rarr=np.random.randn(2,2,2)\n",
    "Rarr"
   ]
  },
  {
   "cell_type": "code",
   "execution_count": 6,
   "metadata": {},
   "outputs": [
    {
     "name": "stdout",
     "output_type": "stream",
     "text": [
      "Create an array of the given shape and populate it with random samples from a uniform distribution over [0, 1)\n",
      " [[[0.58975358 0.02887122]\n",
      "  [0.67784872 0.3174966 ]]\n",
      "\n",
      " [[0.81863998 0.25910114]\n",
      "  [0.33956328 0.25922427]]] \n",
      "\n",
      "in case of differente size\n",
      " [0.02327304 0.39804947 0.81405564 0.22567827 0.46524339]\n"
     ]
    }
   ],
   "source": [
    "# .random.rand() Fn.\n",
    "# Before we used --> arr=np.random.random((2,2))   # here tuple is needed\n",
    "# Now we are using --> \n",
    "Rarr1=np.random.rand(2,2,2)    # Difference: here, we don't need any tuple\n",
    "print(\"Create an array of the given shape and populate it with \"\n",
    "      \"random samples from a uniform distribution over [0, 1)\\n\",Rarr1,\"\\n\")\n",
    "Rarr2=np.random.rand(5)\n",
    "print(\"in case of differente size\\n\",Rarr2)"
   ]
  },
  {
   "cell_type": "code",
   "execution_count": 42,
   "metadata": {},
   "outputs": [
    {
     "name": "stdout",
     "output_type": "stream",
     "text": [
      "Generating a random integer under 10 (by default starts with 0) :\n",
      "3\n",
      "Generating a (by default n=1) random integer between 15 to 30 :\n",
      "29\n",
      "Generating n (here n=5) random integers between 15 to 30 :\n",
      "[23 22 21 23 19]\n",
      "Generating n (here n=10) random integers between 10 to 100 :\n",
      "[41 36 71 29 91 71 48 55 14 53]\n"
     ]
    }
   ],
   "source": [
    "# .random.randint() Fn.\n",
    "print(\"Generating a random integer under 10 (by default starts with 0) :\")\n",
    "arr=np.random.randint(10)\n",
    "print(arr)\n",
    "print(\"Generating a (by default n=1) random integer between 15 to 30 :\")\n",
    "arr=np.random.randint(15,30)\n",
    "print(arr)\n",
    "print(\"Generating n (here n=5) random integers between 15 to 30 :\")\n",
    "arr=np.random.randint(15,30,5)\n",
    "print(arr)\n",
    "print(\"Generating n (here n=10) random integers between 10 to 100 :\")\n",
    "arr=np.random.randint(10,100,10)\n",
    "print(arr)"
   ]
  },
  {
   "cell_type": "code",
   "execution_count": 83,
   "metadata": {},
   "outputs": [
    {
     "name": "stdout",
     "output_type": "stream",
     "text": [
      "[[ 0  1  2  3]\n",
      " [ 4  5  6  7]\n",
      " [ 8  9 10 11]] \n",
      " <class 'numpy.matrix'>\n",
      "\n",
      "another example\n",
      "[[1 2 3]\n",
      " [4 5 6]]\n"
     ]
    }
   ],
   "source": [
    "# .matrix() Fn.\n",
    "# np.matrix Returns a matrix from an array-like object\n",
    "mat1=np.matrix(np.arange(12).reshape((3,4)))  # passed argument is an array\n",
    "print(mat1,\"\\n\",type(mat1))\n",
    "print(\"\\nanother example\")\n",
    "mat2=np.matrix([[1,2,3], [4,5,6]])  # passed argument is also an array which is in row normal form.\n",
    "print(mat2)"
   ]
  },
  {
   "cell_type": "code",
   "execution_count": 72,
   "metadata": {},
   "outputs": [
    {
     "name": "stdout",
     "output_type": "stream",
     "text": [
      "given arrays are :\n",
      "[[1 2]\n",
      " [3 4]]\n",
      "[[4 3]\n",
      " [2 1]]\n",
      "Arrays Sum:\n",
      " [[5 5]\n",
      " [5 5]]\n",
      "Arrays Multiplication:\n",
      " [[4 6]\n",
      " [6 4]]\n",
      "Matrix Multiplication of arrays:\n",
      " [[ 8  5]\n",
      " [20 13]]\n",
      "\n",
      "\n",
      "We can also perform other arithmetic operation here like : -,/,% etc.\n"
     ]
    }
   ],
   "source": [
    "# Matrix Multiplication in Python using Numpy\n",
    "# Python program to demonstrate binary operators in Numpy\n",
    "a=np.array([[1,2], [3,4]])\n",
    "b=np.array([[4,3], [2,1]])\n",
    "print(\"given arrays are :\")\n",
    "print(a)\n",
    "print(b)\n",
    "\n",
    "# Add arrays\n",
    "print(\"Arrays Sum:\\n\",a+b)\n",
    "\n",
    "# Multiply arrays (elementwise multiplication)\n",
    "print(\"Arrays Multiplication:\\n\",a*b)\n",
    "\n",
    "# Matrix Multiplication\n",
    "print(\"Matrix Multiplication of arrays:\\n\",a.dot(b))\n",
    "print(\"\\n\")\n",
    "print(\"We can also perform other arithmetic operation here like : -,/,% etc.\")"
   ]
  },
  {
   "cell_type": "markdown",
   "metadata": {},
   "source": [
    "# Terminologies In Statistics – Statistics For Data Science"
   ]
  },
  {
   "cell_type": "markdown",
   "metadata": {},
   "source": [
    "## 1) Mean :-\n",
    "The mean value is the average value.The NumPy module has a method for this. Example:"
   ]
  },
  {
   "cell_type": "code",
   "execution_count": 18,
   "metadata": {},
   "outputs": [
    {
     "name": "stdout",
     "output_type": "stream",
     "text": [
      "89.76923076923077\n",
      "89.77\n"
     ]
    }
   ],
   "source": [
    "# MEAN value\n",
    "import numpy as np\n",
    "speed = [99,86,87,88,111,86,103,87,94,78,77,85,86]\n",
    "x=np.mean(speed)\n",
    "print(x)\n",
    "print(\"%.2f\" % x)"
   ]
  },
  {
   "cell_type": "markdown",
   "metadata": {},
   "source": [
    "## 2) Median :-\n",
    "The median value is the value in the middle, after\n",
    "you have sorted all the values.\n",
    "\n",
    "It is important that the numbers are sorted before\n",
    "you can find the median.\n",
    "If there are two numbers in the middle, divide the\n",
    "sum of those numbers by two.\n",
    "The NumPy module has a method for this. Example:"
   ]
  },
  {
   "cell_type": "code",
   "execution_count": 19,
   "metadata": {},
   "outputs": [
    {
     "name": "stdout",
     "output_type": "stream",
     "text": [
      "87.0\n",
      "87.00\n",
      "86.5\n",
      "86.50\n"
     ]
    }
   ],
   "source": [
    "# MEDIAN value\n",
    "import numpy as np\n",
    "speed = [99,86,87,88,111,86,103,87,94,78,77,85,86]  # in Odd case \n",
    "x=np.median(speed)\n",
    "print(x)\n",
    "print(\"%.2f\" % x)\n",
    "\n",
    "numbers=[77,78,85,86,86,86,87,87,94,98,99,103]  # in Even case\n",
    "y=np.median(numbers)\n",
    "print(y)\n",
    "print(\"%.2f\" % y)"
   ]
  },
  {
   "cell_type": "markdown",
   "metadata": {},
   "source": [
    "## 3) Mode :-\n",
    "The Mode value is the value that appears the most\n",
    "number of times.\n",
    "\n",
    "Use the SciPy mode() method to find the number that\n",
    "appears the most. SciPy is a free and open-source\n",
    "Python library used for scientific computing and\n",
    "technical computing. SciPy contains modules for\n",
    "optimization, linear algebra, integration, interpolation,\n",
    "special functions, signal and image processing, and\n",
    "other tasks common in science and engineering. Example:"
   ]
  },
  {
   "cell_type": "markdown",
   "metadata": {},
   "source": [
    "### 'Scipy'  library will use below, for finding the Mode value of given data."
   ]
  },
  {
   "cell_type": "code",
   "execution_count": 20,
   "metadata": {},
   "outputs": [
    {
     "name": "stdout",
     "output_type": "stream",
     "text": [
      "ModeResult(mode=array([86]), count=array([3]))\n"
     ]
    }
   ],
   "source": [
    "# MODE value\n",
    "from scipy import stats\n",
    "speed = [99,86,87,88,111,86,103,87,94,78,77,85,86]\n",
    "x = stats.mode(speed)\n",
    "print(x)"
   ]
  },
  {
   "cell_type": "markdown",
   "metadata": {},
   "source": [
    "## 4) Q1,Q2,Q3 Quartiles and Interquartile Range :-\n",
    "A quartile divides data into three points – a lower\n",
    "quartile, median, and upper quartile – to form four\n",
    "groups of the data set.\n",
    "\n",
    "The lower quartile or first\n",
    "quartile is denoted as Q1 and is the middle\n",
    "number that falls between the smallest value of\n",
    "the data set and the median. The second quartile,\n",
    "Q2, is also the median. The upper or third quartile,\n",
    "denoted as Q3, is the central point that lies\n",
    "between the median and the highest number of\n",
    "the distribution. Example:"
   ]
  },
  {
   "cell_type": "code",
   "execution_count": 25,
   "metadata": {},
   "outputs": [
    {
     "name": "stdout",
     "output_type": "stream",
     "text": [
      "3.00\n",
      "5.50\n",
      "7.00\n",
      "4.00\n"
     ]
    }
   ],
   "source": [
    "# Q1, Q2, Q3 Quartile's values and Interquartile range(IQR)\n",
    "import numpy as np\n",
    "data=[ 1,3,3,4,5,6,6,7,8,8]\n",
    "# First Quartile\n",
    "Q1=np.median(data[:5])  # can replace 5(half of length) with int(Q2) \n",
    "print(\"%.2f\" % Q1)\n",
    "# Second Quartile\n",
    "Q2=np.median(data)      \n",
    "print(\"%.2f\" % Q2)\n",
    "# Third Quartile\n",
    "Q3=np.median(data[5:])  # can replace 5(half of length) with int(len(data)/2)\n",
    "print(\"%.2f\" % Q3)\n",
    "# Interquartile range\n",
    "IQR=(Q3-Q1)\n",
    "print(\"%.2f\" % IQR)"
   ]
  },
  {
   "cell_type": "markdown",
   "metadata": {},
   "source": [
    "## 5)  Standard Deviation :-\n",
    "Standard deviation is a number that describes how spread out the values are. A low standard devation means that most of the numbers are close to the mean(average) value. A high standard deviation means that the values are spread out over a wider range.\n",
    "\n",
    "Example: This time we have registered the speed of 7 cars.The NumPy module has a method for this:"
   ]
  },
  {
   "cell_type": "code",
   "execution_count": 27,
   "metadata": {},
   "outputs": [
    {
     "name": "stdout",
     "output_type": "stream",
     "text": [
      "Mean of Speed is 77.43\n",
      "Standar Deviation of Speed is 37.85\n"
     ]
    }
   ],
   "source": [
    "# Standar Deviation\n",
    "import numpy as np\n",
    "Speed=[32,111,138,28,59,77,97]\n",
    "x=np.mean(Speed)\n",
    "print(\"Mean of Speed is %.2f\" % x)\n",
    "y=np.std(Speed)\n",
    "print(\"Standar Deviation of Speed is %.2f\" % y)"
   ]
  },
  {
   "cell_type": "code",
   "execution_count": null,
   "metadata": {},
   "outputs": [],
   "source": []
  }
 ],
 "metadata": {
  "kernelspec": {
   "display_name": "Python 3",
   "language": "python",
   "name": "python3"
  },
  "language_info": {
   "codemirror_mode": {
    "name": "ipython",
    "version": 3
   },
   "file_extension": ".py",
   "mimetype": "text/x-python",
   "name": "python",
   "nbconvert_exporter": "python",
   "pygments_lexer": "ipython3",
   "version": "3.8.5"
  }
 },
 "nbformat": 4,
 "nbformat_minor": 4
}
