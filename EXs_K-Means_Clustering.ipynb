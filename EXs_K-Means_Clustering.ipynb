{
 "cells": [
  {
   "cell_type": "markdown",
   "metadata": {},
   "source": [
    "# Clustering in Data Science "
   ]
  },
  {
   "cell_type": "markdown",
   "metadata": {},
   "source": [
    "## LEC NO. 47) K-means Clustering:"
   ]
  },
  {
   "cell_type": "markdown",
   "metadata": {},
   "source": [
    "###### Here We’ll use the Scikit-learn library and some random data to illustrate a K-means clustering simple explanation."
   ]
  },
  {
   "cell_type": "markdown",
   "metadata": {},
   "source": [
    "### STEP-1) Importing Required Libraries\n",
    "Let's first load the required libraries.\n",
    "\n",
    "1) Numpy for carrying out efficient computations\n",
    "\n",
    "2) Matplotlib for visualization of data\n",
    "\n",
    "3) scikit-learn cluster module for importing Kmeans"
   ]
  },
  {
   "cell_type": "code",
   "execution_count": 6,
   "metadata": {},
   "outputs": [],
   "source": [
    "import numpy as np\n",
    "import matplotlib.pyplot as plt\n",
    "from sklearn.cluster import KMeans"
   ]
  },
  {
   "cell_type": "markdown",
   "metadata": {},
   "source": [
    "### STEP-2) Generate Random Data\n",
    "Here is the code for generating some random data\n",
    "in a two-dimensional space:"
   ]
  },
  {
   "cell_type": "code",
   "execution_count": 9,
   "metadata": {},
   "outputs": [
    {
     "name": "stdout",
     "output_type": "stream",
     "text": [
      "[[0.33942058 0.32733983]\n",
      " [0.52821645 0.6156573 ]\n",
      " [0.79186907 0.94472047]\n",
      " [0.35816927 0.02718859]\n",
      " [0.61625659 0.09601745]]\n"
     ]
    }
   ],
   "source": [
    "# exmple for .random.rand() Fn.\n",
    "m=np.random.rand(5,2)  # In 5 rows of 2 columns All values stay b/w 0 and 1 .\n",
    "print(m)"
   ]
  },
  {
   "cell_type": "code",
   "execution_count": 23,
   "metadata": {},
   "outputs": [
    {
     "name": "stdout",
     "output_type": "stream",
     "text": [
      "[[-0.27163699 -1.74224016]\n",
      " [-1.1092579  -0.33011918]\n",
      " [-0.15681515 -0.95914743]\n",
      " [-0.77188798 -1.69394662]\n",
      " [-1.69055184 -1.90489048]\n",
      " [-0.49091978 -0.6392233 ]\n",
      " [-1.58931309 -0.89291956]\n",
      " [-1.53764958 -0.35420974]\n",
      " [-1.43826626 -0.05954261]\n",
      " [-0.19413007 -1.93663251]]\n"
     ]
    }
   ],
   "source": [
    "X = (-2)*np.random.rand(100,2)\n",
    "print(X[:10])  # will print row 0 to 10."
   ]
  },
  {
   "cell_type": "code",
   "execution_count": 24,
   "metadata": {},
   "outputs": [
    {
     "name": "stdout",
     "output_type": "stream",
     "text": [
      "[[2.07206604 1.52985239]\n",
      " [1.97710867 2.75285863]\n",
      " [2.56086754 2.61330172]\n",
      " [1.69414804 1.97123288]\n",
      " [1.43500775 1.9852448 ]\n",
      " [2.92387751 1.36841875]\n",
      " [1.98608248 1.48230309]\n",
      " [2.52423563 1.46600876]\n",
      " [1.85662052 2.98265824]\n",
      " [1.79335527 2.78591788]]\n"
     ]
    }
   ],
   "source": [
    "X1 = 1 + (2)*np.random.rand(50,2)\n",
    "print(X1[:10])"
   ]
  },
  {
   "cell_type": "code",
   "execution_count": 41,
   "metadata": {},
   "outputs": [
    {
     "name": "stdout",
     "output_type": "stream",
     "text": [
      "[[2.07206604 1.52985239]\n",
      " [1.97710867 2.75285863]\n",
      " [2.56086754 2.61330172]\n",
      " [1.69414804 1.97123288]\n",
      " [1.43500775 1.9852448 ]]\n",
      "\n",
      "the length of X is : 100 rows.\n"
     ]
    }
   ],
   "source": [
    "X[50:100, :] = X1    # Assigning X1 in half of of X\n",
    "print(X[50:55])\n",
    "print(\"\\nthe length of X is :\",len(X),\"rows.\")"
   ]
  },
  {
   "cell_type": "code",
   "execution_count": 57,
   "metadata": {},
   "outputs": [
    {
     "data": {
      "image/png": "[encoded data removed]",
      "text/plain": [
       "<Figure size 432x288 with 1 Axes>"
      ]
     },
     "metadata": {
      "needs_background": "light"
     },
     "output_type": "display_data"
    }
   ],
   "source": [
    "# Here, A total of 100 data points(x,y) has been generated and \n",
    "# divided into two groups, of 50 points each.\n",
    "# Here is how the data is displayed on a two dimensional space:\n",
    "\n",
    "plt.scatter(X[ : , 0], X[ :, 1], c='b')\n",
    "# x=values of 0'th column and y=values of 1'st column\n",
    "plt.title(\"Scatter plot for X\")\n",
    "plt.show()"
   ]
  },
  {
   "cell_type": "markdown",
   "metadata": {},
   "source": [
    "### STEP-3)  Training the K-means algorithm, Use ScikitLearn\n",
    "We’ll use some of the available functions in\n",
    "the Scikit-learn library to process the randomly\n",
    "generated data. As we have got the number of\n",
    "clusters (which is 2 here or k=2), so we can now train the model on the\n",
    "dataset."
   ]
  },
  {
   "cell_type": "code",
   "execution_count": 58,
   "metadata": {},
   "outputs": [
    {
     "data": {
      "text/plain": [
       "KMeans(n_clusters=2)"
      ]
     },
     "execution_count": 58,
     "metadata": {},
     "output_type": "execute_result"
    }
   ],
   "source": [
    "# from sklearn.cluster import KMeans\n",
    "# Commented, because we already import it in starting\n",
    "Kmean = KMeans(n_clusters=2)\n",
    "Kmean.fit(X)"
   ]
  },
  {
   "cell_type": "markdown",
   "metadata": {},
   "source": [
    "### STEP-4) Finding the Centroid\n",
    "Here is the code for finding and displaying the centres of the clusters:\n",
    "(one center for one cluster)"
   ]
  },
  {
   "cell_type": "code",
   "execution_count": 53,
   "metadata": {},
   "outputs": [
    {
     "data": {
      "text/plain": [
       "array([[-0.94154304, -0.97120235],\n",
       "       [ 2.08005332,  2.0572254 ]])"
      ]
     },
     "execution_count": 53,
     "metadata": {},
     "output_type": "execute_result"
    }
   ],
   "source": [
    "# Here is the code for finding the centre of the clusters:\n",
    "Kmean.cluster_centers_"
   ]
  },
  {
   "cell_type": "markdown",
   "metadata": {},
   "source": [
    "In above array, point1(x1,y1) is first center/centroid And point2(x2,y2) is second center/centroid."
   ]
  },
  {
   "cell_type": "code",
   "execution_count": 59,
   "metadata": {},
   "outputs": [
    {
     "data": {
      "image/png": "[encoded data removed]",
      "text/plain": [
       "<Figure size 432x288 with 1 Axes>"
      ]
     },
     "metadata": {
      "needs_background": "light"
     },
     "output_type": "display_data"
    }
   ],
   "source": [
    "#Let’s display the cluster centroids (using blue and red colour).\n",
    "plt.scatter(X[ : , 0], X[ : , 1], c='b')\n",
    "\n",
    "# for cluster-1)\n",
    "plt.scatter(-0.94154304, -0.97120235, s=200, c='g', marker='s')\n",
    "\n",
    "# for cluster-2)\n",
    "plt.scatter(2.08005332,  2.0572254, s=200, c='r', marker='s')\n",
    "\n",
    "# here 's=200' is size of marker,'c=g/r' is colour of marker And\n",
    "# 'marker=s' is type of marker (which is S(SQUARE) here)\n",
    "\n",
    "plt.title(\"Clusters with there Centroids\")\n",
    "plt.show()"
   ]
  },
  {
   "cell_type": "markdown",
   "metadata": {},
   "source": [
    "### STEP-5) Testing the Algorithm\n",
    "Here is the code for getting the labels property of\n",
    "the K-means clustering example dataset; that is,\n",
    "how the data points are categorized into the two\n",
    "clusters."
   ]
  },
  {
   "cell_type": "code",
   "execution_count": 64,
   "metadata": {},
   "outputs": [
    {
     "data": {
      "text/plain": [
       "array([1, 1, 1, 1, 1, 1, 1, 1, 1, 1, 1, 1, 1, 1, 1, 1, 1, 1, 1, 1, 1, 1,\n",
       "       1, 1, 1, 1, 1, 1, 1, 1, 1, 1, 1, 1, 1, 1, 1, 1, 1, 1, 1, 1, 1, 1,\n",
       "       1, 1, 1, 1, 1, 1, 0, 0, 0, 0, 0, 0, 0, 0, 0, 0, 0, 0, 0, 0, 0, 0,\n",
       "       0, 0, 0, 0, 0, 0, 0, 0, 0, 0, 0, 0, 0, 0, 0, 0, 0, 0, 0, 0, 0, 0,\n",
       "       0, 0, 0, 0, 0, 0, 0, 0, 0, 0, 0, 0])"
      ]
     },
     "execution_count": 64,
     "metadata": {},
     "output_type": "execute_result"
    }
   ],
   "source": [
    "Kmean.labels_"
   ]
  },
  {
   "cell_type": "markdown",
   "metadata": {},
   "source": [
    "As you can see the result in above Labels's array, 50 data points belong to\n",
    "the 1 cluster while the rest belong to the 0 cluster."
   ]
  },
  {
   "cell_type": "markdown",
   "metadata": {},
   "source": [
    "### STEP-6) Predicting the Cluster of a data point ( which can be out of  sample)\n",
    "Now let’s use the code below for predicting the cluster of a data point using .predict() Fn.:"
   ]
  },
  {
   "cell_type": "code",
   "execution_count": 69,
   "metadata": {},
   "outputs": [
    {
     "data": {
      "text/plain": [
       "array([1])"
      ]
     },
     "execution_count": 69,
     "metadata": {},
     "output_type": "execute_result"
    }
   ],
   "source": [
    "# prediction for the cluster of point(-3,-3), which is out of sample\n",
    "sample=np.array([-3.0,-3.0])    \n",
    "sample_test=sample.reshape(1, -1)    # it has to be 2D array\n",
    "Kmean.predict(sample_test)"
   ]
  },
  {
   "cell_type": "markdown",
   "metadata": {},
   "source": [
    "It shows that the test data point belongs to\n",
    "the 1 (green centroid) cluster."
   ]
  },
  {
   "cell_type": "code",
   "execution_count": null,
   "metadata": {},
   "outputs": [],
   "source": []
  }
 ],
 "metadata": {
  "kernelspec": {
   "display_name": "Python 3",
   "language": "python",
   "name": "python3"
  },
  "language_info": {
   "codemirror_mode": {
    "name": "ipython",
    "version": 3
   },
   "file_extension": ".py",
   "mimetype": "text/x-python",
   "name": "python",
   "nbconvert_exporter": "python",
   "pygments_lexer": "ipython3",
   "version": "3.8.5"
  }
 },
 "nbformat": 4,
 "nbformat_minor": 4
}
