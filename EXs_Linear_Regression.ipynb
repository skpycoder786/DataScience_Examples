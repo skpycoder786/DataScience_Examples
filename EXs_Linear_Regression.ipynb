{
 "cells": [
  {
   "cell_type": "markdown",
   "metadata": {},
   "source": [
    "# Regression Analysis in Data Science "
   ]
  },
  {
   "cell_type": "markdown",
   "metadata": {},
   "source": [
    "## LEC NO. 41) Linear Regression:"
   ]
  },
  {
   "cell_type": "markdown",
   "metadata": {},
   "source": [
    "###### Here we will predict the weight of the person based on his/her height.\n",
    "The package scikit-learn is a widely used Python library for machine learning, built on top of NumPy and some other packages. It provides the means for pre-processing data, reducing dimensionality, implementing regression, classification, clustering, and more. Like NumPy, scikit-learn is also open source. "
   ]
  },
  {
   "cell_type": "markdown",
   "metadata": {},
   "source": [
    "### STEP-1) Import Packages and Classes\n",
    "The first step is to import the packages\n",
    "\n",
    "1) NumPy for handling Arrays\n",
    "\n",
    "2) the class LinearRegression from sklearn.linear_model, it  will be used to perform linear and polynomial regression and make predictions accordingly.\n",
    "\n",
    "3) import matplotlib.pyplot library for visualization of data"
   ]
  },
  {
   "cell_type": "code",
   "execution_count": 2,
   "metadata": {},
   "outputs": [],
   "source": [
    "import numpy as np\n",
    "from sklearn.linear_model import LinearRegression\n",
    "import matplotlib.pyplot as plt"
   ]
  },
  {
   "cell_type": "markdown",
   "metadata": {},
   "source": [
    "### STEP-2) Providing Data\n",
    "The second step is defining data to work with.\n",
    "In the example below, the x-axis represents height,\n",
    "and the y-axis represents weight. We have\n",
    "registered the height and weight of 13 person. Let\n",
    "us see if the data we collected could be used in a\n",
    "linear regression."
   ]
  },
  {
   "cell_type": "code",
   "execution_count": 3,
   "metadata": {},
   "outputs": [
    {
     "name": "stdout",
     "output_type": "stream",
     "text": [
      "[[150]\n",
      " [155]\n",
      " [160]\n",
      " [157]\n",
      " [162]\n",
      " [165]\n",
      " [168]\n",
      " [170]\n",
      " [140]\n",
      " [145]\n",
      " [175]\n",
      " [178]\n",
      " [180]]\n"
     ]
    }
   ],
   "source": [
    "x = np.array([150,155,160,157,162,165,168,170,140,145,175,178,180]).reshape((-1,1))\n",
    "# You should call .reshape() on x because this array is required to be two-dimensional,\n",
    "# or to be more precise, to have one column and as many rows as necessary. That’s exactly\n",
    "# what the argument (-1,1) of .reshape() specifies. '-1' mean any no. of rows.\n",
    "\n",
    "y = np.array([50,52,54,58,62,63,66,68,45,47,70,72,73])\n",
    "\n",
    "# see \n",
    "print(x)"
   ]
  },
  {
   "cell_type": "code",
   "execution_count": 4,
   "metadata": {},
   "outputs": [
    {
     "data": {
      "text/plain": [
       "<matplotlib.collections.PathCollection at 0x2b0da323ca0>"
      ]
     },
     "execution_count": 4,
     "metadata": {},
     "output_type": "execute_result"
    },
    {
     "data": {
      "image/png": "[encoded data removed]",
      "text/plain": [
       "<Figure size 432x288 with 1 Axes>"
      ]
     },
     "metadata": {
      "needs_background": "light"
     },
     "output_type": "display_data"
    }
   ],
   "source": [
    "import matplotlib.pyplot as plt\n",
    "plt.scatter(x,y)"
   ]
  },
  {
   "cell_type": "markdown",
   "metadata": {},
   "source": [
    "### STEP-3)  Create a Model and Fit it\n",
    "The next step is to create a linear regression model\n",
    "and fit it using the existing data."
   ]
  },
  {
   "cell_type": "code",
   "execution_count": 5,
   "metadata": {},
   "outputs": [],
   "source": [
    "# Let’s create an instance of the class LinearRegression, which will\n",
    "# represent the regression model:\n",
    "model = LinearRegression()"
   ]
  },
  {
   "cell_type": "code",
   "execution_count": 6,
   "metadata": {},
   "outputs": [
    {
     "data": {
      "text/plain": [
       "LinearRegression()"
      ]
     },
     "execution_count": 6,
     "metadata": {},
     "output_type": "execute_result"
    }
   ],
   "source": [
    "# It’s time to start using the model. First, you need to call .fit() on model:\n",
    "model.fit(x, y)"
   ]
  },
  {
   "cell_type": "markdown",
   "metadata": {},
   "source": [
    "OR we can also use:\n",
    "\n",
    "model = LinearRegression().fit(x, y)"
   ]
  },
  {
   "cell_type": "markdown",
   "metadata": {},
   "source": [
    "### STEP-4) Get Results\n",
    "Once you have your model fitted, you can get the\n",
    "results to check whether the model works\n",
    "satisfactorily and interpret it.\n",
    "\n",
    "The attributes\n",
    "of model are .intercept_ which represents the\n",
    "coefficient b and .coef_ which represents a:"
   ]
  },
  {
   "cell_type": "code",
   "execution_count": 7,
   "metadata": {},
   "outputs": [
    {
     "name": "stdout",
     "output_type": "stream",
     "text": [
      "intercept: -63.56650614413813\n",
      "slope: [0.76311857]\n"
     ]
    }
   ],
   "source": [
    "print('intercept:', model.intercept_)\n",
    "print('slope:', model.coef_)"
   ]
  },
  {
   "cell_type": "markdown",
   "metadata": {},
   "source": [
    "### STEP-5) Predict Response\n",
    "Once there is a satisfactory model, you can use it\n",
    "for predictions with either existing or new data.\n",
    "To obtain the predicted response, use .predict():"
   ]
  },
  {
   "cell_type": "code",
   "execution_count": 8,
   "metadata": {},
   "outputs": [
    {
     "name": "stdout",
     "output_type": "stream",
     "text": [
      "predicted response: [50.90127864 54.71687147 58.5324643  56.2431086  60.05870143 62.34805712\n",
      " 64.63741282 66.16364995 43.27009299 47.08568582 69.97924278 72.26859847\n",
      " 73.7948356 ]\n"
     ]
    }
   ],
   "source": [
    "y_pred = model.predict(x)\n",
    "print('predicted response:', y_pred)"
   ]
  },
  {
   "cell_type": "code",
   "execution_count": 9,
   "metadata": {},
   "outputs": [
    {
     "name": "stdout",
     "output_type": "stream",
     "text": [
      "[63.11117569]\n"
     ]
    }
   ],
   "source": [
    "# Let’s find the weight of the person with height of 166 cm\n",
    "z = model.predict(np.array([[166]]))\n",
    "print(z)"
   ]
  },
  {
   "cell_type": "markdown",
   "metadata": {},
   "source": [
    "When applying .predict(), you pass the regressor as\n",
    "the argument and get the corresponding predicted\n",
    "response."
   ]
  },
  {
   "cell_type": "code",
   "execution_count": 10,
   "metadata": {},
   "outputs": [
    {
     "name": "stdout",
     "output_type": "stream",
     "text": [
      "predicted response: [[50.90127864]\n",
      " [54.71687147]\n",
      " [58.5324643 ]\n",
      " [56.2431086 ]\n",
      " [60.05870143]\n",
      " [62.34805712]\n",
      " [64.63741282]\n",
      " [66.16364995]\n",
      " [43.27009299]\n",
      " [47.08568582]\n",
      " [69.97924278]\n",
      " [72.26859847]\n",
      " [73.7948356 ]]\n"
     ]
    }
   ],
   "source": [
    "# This is a nearly identical way to predict the response,which present it\n",
    "# as 2D array:\n",
    "y_pred = model.intercept_ + model.coef_ * x\n",
    "print('predicted response:', y_pred)"
   ]
  },
  {
   "cell_type": "code",
   "execution_count": 11,
   "metadata": {},
   "outputs": [
    {
     "data": {
      "image/png": "[encoded data removed]",
      "text/plain": [
       "<Figure size 432x288 with 1 Axes>"
      ]
     },
     "metadata": {
      "needs_background": "light"
     },
     "output_type": "display_data"
    }
   ],
   "source": [
    "plt.scatter(x,y)\n",
    "plt.plot(x,y_pred)\n",
    "plt.show()"
   ]
  },
  {
   "cell_type": "markdown",
   "metadata": {},
   "source": [
    "### Coefficient of Determination (R^2) :\n",
    "In regression, the R2 coefficient of\n",
    "determination is a statistical measure of how well\n",
    "the regression predictions approximate the real\n",
    "data points. An R\n",
    "2 of 1 indicates that\n",
    "the regression predictions perfectly fit the data.\n",
    "You can obtain the coefficient of determination\n",
    "(𝑅²) with .score() called on model."
   ]
  },
  {
   "cell_type": "code",
   "execution_count": 12,
   "metadata": {},
   "outputs": [
    {
     "name": "stdout",
     "output_type": "stream",
     "text": [
      "coefficient of determination: 0.9600085865468371\n"
     ]
    }
   ],
   "source": [
    "r_sq = model.score(x, y)\n",
    "print('coefficient of determination:', r_sq)"
   ]
  },
  {
   "cell_type": "markdown",
   "metadata": {},
   "source": [
    "The result 0.96 shows that there is a very good\n",
    "relationship."
   ]
  },
  {
   "cell_type": "code",
   "execution_count": null,
   "metadata": {},
   "outputs": [],
   "source": []
  }
 ],
 "metadata": {
  "kernelspec": {
   "display_name": "Python 3",
   "language": "python",
   "name": "python3"
  },
  "language_info": {
   "codemirror_mode": {
    "name": "ipython",
    "version": 3
   },
   "file_extension": ".py",
   "mimetype": "text/x-python",
   "name": "python",
   "nbconvert_exporter": "python",
   "pygments_lexer": "ipython3",
   "version": "3.8.5"
  }
 },
 "nbformat": 4,
 "nbformat_minor": 4
}
