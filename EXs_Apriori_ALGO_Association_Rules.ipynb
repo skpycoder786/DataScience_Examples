{
 "cells": [
  {
   "cell_type": "markdown",
   "metadata": {},
   "source": [
    "# Association Rule Learning in Data Science "
   ]
  },
  {
   "cell_type": "markdown",
   "metadata": {},
   "source": [
    "## LEC NO. 51) Apriori Algorithm:"
   ]
  },
  {
   "cell_type": "markdown",
   "metadata": {},
   "source": [
    "##### \"How to Solve Market Basket Analysis base problems ?\" ANSWER :-"
   ]
  },
  {
   "cell_type": "markdown",
   "metadata": {},
   "source": [
    "###### Here we will implement this algorithm using a dataset. This dataset contains 1000 transactions over the course of a week at a French retail store. To implement this, we have a problem of a retailer, who wants to find the association between his shop's product, so that he can provide an offer of \"Buy this and Get that\" to his customers.\n",
    "###### The retailer has a dataset information that contains a list of transactions made by his customer. In the dataset, each row shows the products purchased by customers or transactions made by the customer.\n",
    "###### To solve this problem, we will perform the below steps, But Before we begin our coding we need to install the apyori package. To install the package use the following code in Jupyter notebook."
   ]
  },
  {
   "cell_type": "code",
   "execution_count": 101,
   "metadata": {},
   "outputs": [
    {
     "name": "stdout",
     "output_type": "stream",
     "text": [
      "Requirement already satisfied: apyori in c:\\users\\dell\\anaconda3\\lib\\site-packages (1.1.2)\n"
     ]
    }
   ],
   "source": [
    "!pip install apyori"
   ]
  },
  {
   "cell_type": "markdown",
   "metadata": {},
   "source": [
    "### STEP-1) Importing Required Libraries\n",
    "Let's first load the required libraries.\n",
    "\n",
    "1) Numpy for carrying out efficient computations\n",
    "\n",
    "2) Matplotlib for visualization of data\n",
    "\n",
    "3) Pandas for handling DataFrames\n",
    "\n",
    "4) The apriori function that will be imported from the apyroi package"
   ]
  },
  {
   "cell_type": "code",
   "execution_count": 102,
   "metadata": {},
   "outputs": [],
   "source": [
    "import numpy as np\n",
    "import matplotlib.pyplot as plt\n",
    "import pandas as pd\n",
    "from apyori import apriori"
   ]
  },
  {
   "cell_type": "markdown",
   "metadata": {},
   "source": [
    "### STEP-2)  Importing the Dataset\n",
    "Now lets import dataset and see how our dataset\n",
    "looks like, how many transactions are there and\n",
    "what is the shape of the dataset."
   ]
  },
  {
   "cell_type": "code",
   "execution_count": 103,
   "metadata": {},
   "outputs": [
    {
     "data": {
      "text/html": [
       "<div>\n",
       "<style scoped>\n",
       "    .dataframe tbody tr th:only-of-type {\n",
       "        vertical-align: middle;\n",
       "    }\n",
       "\n",
       "    .dataframe tbody tr th {\n",
       "        vertical-align: top;\n",
       "    }\n",
       "\n",
       "    .dataframe thead th {\n",
       "        text-align: right;\n",
       "    }\n",
       "</style>\n",
       "<table border=\"1\" class=\"dataframe\">\n",
       "  <thead>\n",
       "    <tr style=\"text-align: right;\">\n",
       "      <th></th>\n",
       "      <th>0</th>\n",
       "      <th>1</th>\n",
       "      <th>2</th>\n",
       "      <th>3</th>\n",
       "      <th>4</th>\n",
       "      <th>5</th>\n",
       "      <th>6</th>\n",
       "      <th>7</th>\n",
       "      <th>8</th>\n",
       "      <th>9</th>\n",
       "      <th>10</th>\n",
       "      <th>11</th>\n",
       "      <th>12</th>\n",
       "      <th>13</th>\n",
       "      <th>14</th>\n",
       "      <th>15</th>\n",
       "      <th>16</th>\n",
       "      <th>17</th>\n",
       "      <th>18</th>\n",
       "      <th>19</th>\n",
       "    </tr>\n",
       "  </thead>\n",
       "  <tbody>\n",
       "    <tr>\n",
       "      <th>0</th>\n",
       "      <td>shrimp</td>\n",
       "      <td>almonds</td>\n",
       "      <td>avocado</td>\n",
       "      <td>vegetables mix</td>\n",
       "      <td>green grapes</td>\n",
       "      <td>whole weat flour</td>\n",
       "      <td>yams</td>\n",
       "      <td>cottage cheese</td>\n",
       "      <td>energy drink</td>\n",
       "      <td>tomato juice</td>\n",
       "      <td>low fat yogurt</td>\n",
       "      <td>green tea</td>\n",
       "      <td>honey</td>\n",
       "      <td>salad</td>\n",
       "      <td>mineral water</td>\n",
       "      <td>salmon</td>\n",
       "      <td>antioxydant juice</td>\n",
       "      <td>frozen smoothie</td>\n",
       "      <td>spinach</td>\n",
       "      <td>olive oil</td>\n",
       "    </tr>\n",
       "    <tr>\n",
       "      <th>1</th>\n",
       "      <td>burgers</td>\n",
       "      <td>meatballs</td>\n",
       "      <td>eggs</td>\n",
       "      <td>NaN</td>\n",
       "      <td>NaN</td>\n",
       "      <td>NaN</td>\n",
       "      <td>NaN</td>\n",
       "      <td>NaN</td>\n",
       "      <td>NaN</td>\n",
       "      <td>NaN</td>\n",
       "      <td>NaN</td>\n",
       "      <td>NaN</td>\n",
       "      <td>NaN</td>\n",
       "      <td>NaN</td>\n",
       "      <td>NaN</td>\n",
       "      <td>NaN</td>\n",
       "      <td>NaN</td>\n",
       "      <td>NaN</td>\n",
       "      <td>NaN</td>\n",
       "      <td>NaN</td>\n",
       "    </tr>\n",
       "    <tr>\n",
       "      <th>2</th>\n",
       "      <td>chutney</td>\n",
       "      <td>NaN</td>\n",
       "      <td>NaN</td>\n",
       "      <td>NaN</td>\n",
       "      <td>NaN</td>\n",
       "      <td>NaN</td>\n",
       "      <td>NaN</td>\n",
       "      <td>NaN</td>\n",
       "      <td>NaN</td>\n",
       "      <td>NaN</td>\n",
       "      <td>NaN</td>\n",
       "      <td>NaN</td>\n",
       "      <td>NaN</td>\n",
       "      <td>NaN</td>\n",
       "      <td>NaN</td>\n",
       "      <td>NaN</td>\n",
       "      <td>NaN</td>\n",
       "      <td>NaN</td>\n",
       "      <td>NaN</td>\n",
       "      <td>NaN</td>\n",
       "    </tr>\n",
       "    <tr>\n",
       "      <th>3</th>\n",
       "      <td>turkey</td>\n",
       "      <td>avocado</td>\n",
       "      <td>NaN</td>\n",
       "      <td>NaN</td>\n",
       "      <td>NaN</td>\n",
       "      <td>NaN</td>\n",
       "      <td>NaN</td>\n",
       "      <td>NaN</td>\n",
       "      <td>NaN</td>\n",
       "      <td>NaN</td>\n",
       "      <td>NaN</td>\n",
       "      <td>NaN</td>\n",
       "      <td>NaN</td>\n",
       "      <td>NaN</td>\n",
       "      <td>NaN</td>\n",
       "      <td>NaN</td>\n",
       "      <td>NaN</td>\n",
       "      <td>NaN</td>\n",
       "      <td>NaN</td>\n",
       "      <td>NaN</td>\n",
       "    </tr>\n",
       "    <tr>\n",
       "      <th>4</th>\n",
       "      <td>mineral water</td>\n",
       "      <td>milk</td>\n",
       "      <td>energy bar</td>\n",
       "      <td>whole wheat rice</td>\n",
       "      <td>green tea</td>\n",
       "      <td>NaN</td>\n",
       "      <td>NaN</td>\n",
       "      <td>NaN</td>\n",
       "      <td>NaN</td>\n",
       "      <td>NaN</td>\n",
       "      <td>NaN</td>\n",
       "      <td>NaN</td>\n",
       "      <td>NaN</td>\n",
       "      <td>NaN</td>\n",
       "      <td>NaN</td>\n",
       "      <td>NaN</td>\n",
       "      <td>NaN</td>\n",
       "      <td>NaN</td>\n",
       "      <td>NaN</td>\n",
       "      <td>NaN</td>\n",
       "    </tr>\n",
       "  </tbody>\n",
       "</table>\n",
       "</div>"
      ],
      "text/plain": [
       "               0          1           2                 3             4  \\\n",
       "0         shrimp    almonds     avocado    vegetables mix  green grapes   \n",
       "1        burgers  meatballs        eggs               NaN           NaN   \n",
       "2        chutney        NaN         NaN               NaN           NaN   \n",
       "3         turkey    avocado         NaN               NaN           NaN   \n",
       "4  mineral water       milk  energy bar  whole wheat rice     green tea   \n",
       "\n",
       "                  5     6               7             8             9  \\\n",
       "0  whole weat flour  yams  cottage cheese  energy drink  tomato juice   \n",
       "1               NaN   NaN             NaN           NaN           NaN   \n",
       "2               NaN   NaN             NaN           NaN           NaN   \n",
       "3               NaN   NaN             NaN           NaN           NaN   \n",
       "4               NaN   NaN             NaN           NaN           NaN   \n",
       "\n",
       "               10         11     12     13             14      15  \\\n",
       "0  low fat yogurt  green tea  honey  salad  mineral water  salmon   \n",
       "1             NaN        NaN    NaN    NaN            NaN     NaN   \n",
       "2             NaN        NaN    NaN    NaN            NaN     NaN   \n",
       "3             NaN        NaN    NaN    NaN            NaN     NaN   \n",
       "4             NaN        NaN    NaN    NaN            NaN     NaN   \n",
       "\n",
       "                  16               17       18         19  \n",
       "0  antioxydant juice  frozen smoothie  spinach  olive oil  \n",
       "1                NaN              NaN      NaN        NaN  \n",
       "2                NaN              NaN      NaN        NaN  \n",
       "3                NaN              NaN      NaN        NaN  \n",
       "4                NaN              NaN      NaN        NaN  "
      ]
     },
     "execution_count": 103,
     "metadata": {},
     "output_type": "execute_result"
    }
   ],
   "source": [
    "data = pd.read_csv('F:\\DataScience\\Store_data.csv')\n",
    "data.head()"
   ]
  },
  {
   "cell_type": "markdown",
   "metadata": {},
   "source": [
    "In above dataset, all the rows of the dataset are showing different\n",
    "transactions made by the customers. The first row\n",
    "is the transaction done by the first customer, which\n",
    "means there is no particular name for each column\n",
    "and have their own individual value or product\n",
    "details.\n"
   ]
  },
  {
   "cell_type": "code",
   "execution_count": 104,
   "metadata": {},
   "outputs": [
    {
     "data": {
      "text/plain": [
       "(1000, 20)"
      ]
     },
     "execution_count": 104,
     "metadata": {},
     "output_type": "execute_result"
    }
   ],
   "source": [
    "# printing the shape of dataframe\n",
    "data.shape"
   ]
  },
  {
   "cell_type": "code",
   "execution_count": 105,
   "metadata": {},
   "outputs": [
    {
     "data": {
      "text/plain": [
       "20000"
      ]
     },
     "execution_count": 105,
     "metadata": {},
     "output_type": "execute_result"
    }
   ],
   "source": [
    "# printing the size of dataframe\n",
    "data.size"
   ]
  },
  {
   "cell_type": "markdown",
   "metadata": {},
   "source": [
    "### STEP-3) Data Preprocessing\n",
    "The Apriori library we are going to use requires our\n",
    "dataset to be in the form of a list of lists, where the\n",
    "whole dataset is a big list and each transaction in\n",
    "the dataset is an inner list within the outer big list.\n",
    "\n",
    "Currently, we have data in the form of a pandas\n",
    "dataframe. To convert our pandas dataframe into a\n",
    "list of lists, execute the following code."
   ]
  },
  {
   "cell_type": "code",
   "execution_count": 106,
   "metadata": {},
   "outputs": [],
   "source": [
    "# Create an empty Transactions list and then append list_of_products as \n",
    "# element in empty Transactions list. \n",
    "Transactions=[]\n",
    "\n",
    "for i in range(0, 1000):\n",
    "    Transactions.append([str(data.values[i,j]) for j in range(0,20)])"
   ]
  },
  {
   "cell_type": "code",
   "execution_count": 107,
   "metadata": {},
   "outputs": [],
   "source": [
    "# Extending above script in explained code:\n",
    "# Transactions=[]\n",
    "# for i in range(0,1000):\n",
    "#     temp=[]\n",
    "#     for j in range(0,20):\n",
    "#         temp.append(data.values[i,j])\n",
    "#     Transactions.append(temp)    "
   ]
  },
  {
   "cell_type": "code",
   "execution_count": 108,
   "metadata": {},
   "outputs": [
    {
     "name": "stdout",
     "output_type": "stream",
     "text": [
      "1000\n"
     ]
    },
    {
     "data": {
      "text/plain": [
       "[['shrimp',\n",
       "  'almonds',\n",
       "  'avocado',\n",
       "  'vegetables mix',\n",
       "  'green grapes',\n",
       "  'whole weat flour',\n",
       "  'yams',\n",
       "  'cottage cheese',\n",
       "  'energy drink',\n",
       "  'tomato juice',\n",
       "  'low fat yogurt',\n",
       "  'green tea',\n",
       "  'honey',\n",
       "  'salad',\n",
       "  'mineral water',\n",
       "  'salmon',\n",
       "  'antioxydant juice',\n",
       "  'frozen smoothie',\n",
       "  'spinach',\n",
       "  'olive oil'],\n",
       " ['burgers',\n",
       "  'meatballs',\n",
       "  'eggs',\n",
       "  'nan',\n",
       "  'nan',\n",
       "  'nan',\n",
       "  'nan',\n",
       "  'nan',\n",
       "  'nan',\n",
       "  'nan',\n",
       "  'nan',\n",
       "  'nan',\n",
       "  'nan',\n",
       "  'nan',\n",
       "  'nan',\n",
       "  'nan',\n",
       "  'nan',\n",
       "  'nan',\n",
       "  'nan',\n",
       "  'nan'],\n",
       " ['chutney',\n",
       "  'nan',\n",
       "  'nan',\n",
       "  'nan',\n",
       "  'nan',\n",
       "  'nan',\n",
       "  'nan',\n",
       "  'nan',\n",
       "  'nan',\n",
       "  'nan',\n",
       "  'nan',\n",
       "  'nan',\n",
       "  'nan',\n",
       "  'nan',\n",
       "  'nan',\n",
       "  'nan',\n",
       "  'nan',\n",
       "  'nan',\n",
       "  'nan',\n",
       "  'nan'],\n",
       " ['turkey',\n",
       "  'avocado',\n",
       "  'nan',\n",
       "  'nan',\n",
       "  'nan',\n",
       "  'nan',\n",
       "  'nan',\n",
       "  'nan',\n",
       "  'nan',\n",
       "  'nan',\n",
       "  'nan',\n",
       "  'nan',\n",
       "  'nan',\n",
       "  'nan',\n",
       "  'nan',\n",
       "  'nan',\n",
       "  'nan',\n",
       "  'nan',\n",
       "  'nan',\n",
       "  'nan'],\n",
       " ['mineral water',\n",
       "  'milk',\n",
       "  'energy bar',\n",
       "  'whole wheat rice',\n",
       "  'green tea',\n",
       "  'nan',\n",
       "  'nan',\n",
       "  'nan',\n",
       "  'nan',\n",
       "  'nan',\n",
       "  'nan',\n",
       "  'nan',\n",
       "  'nan',\n",
       "  'nan',\n",
       "  'nan',\n",
       "  'nan',\n",
       "  'nan',\n",
       "  'nan',\n",
       "  'nan',\n",
       "  'nan']]"
      ]
     },
     "execution_count": 108,
     "metadata": {},
     "output_type": "execute_result"
    }
   ],
   "source": [
    "# you can match it with above Dataframe\n",
    "print(len(Transactions))\n",
    "# Initial 5 lists of Transactions list are:\n",
    "Transactions[0:5]"
   ]
  },
  {
   "cell_type": "markdown",
   "metadata": {},
   "source": [
    "### STEP-4) Training the Apriori Model on the dataset\n",
    "To train the model, we will use the apriori\n",
    "function that will be imported from\n",
    "the apyroi package. This function will return\n",
    "the rules to train the model on the dataset."
   ]
  },
  {
   "cell_type": "code",
   "execution_count": 109,
   "metadata": {},
   "outputs": [],
   "source": [
    "from apyori import apriori\n",
    "rules= apriori(transactions= Transactions, min_support=0.003, min_confidence = 0.2, min_lift=3, min_length=2, max_length=2) "
   ]
  },
  {
   "cell_type": "markdown",
   "metadata": {},
   "source": [
    "In the above code, the first line is to import the\n",
    "apriori function. In the second line, the apriori\n",
    "function returns the output as the rules.It takes\n",
    "the following parameters:\n",
    "    \n",
    ">transactions: A list of transactions. Here we have taken Transactions .\n",
    "\n",
    ">min_support= To set the minimum support float\n",
    "value. Here we have used 0.003 (3/1000) that is calculated\n",
    "by taking 3 transactions per customer each week to\n",
    "the total number of transactions .\n",
    "\n",
    ">min_confidence: To set the minimum confidence\n",
    "value. Here we have taken 0.2. It can be changed as\n",
    "per the business problem .\n",
    "\n",
    ">min_lift= To set the minimum lift value. Here we have taken 3 .\n",
    "\n",
    ">min_length= It takes the minimum number of\n",
    "products for the association. Here we have taken 2 .\n",
    "\n",
    ">max_length = It takes the maximum number of\n",
    "products for the association. Here we have taken 2 ."
   ]
  },
  {
   "cell_type": "markdown",
   "metadata": {},
   "source": [
    "### STEP-5) Displaying the Association Rules\n",
    "For displaying the result of the rules occurred\n",
    "from the apriori function, we will make a list of all the rules."
   ]
  },
  {
   "cell_type": "code",
   "execution_count": 110,
   "metadata": {},
   "outputs": [
    {
     "name": "stdout",
     "output_type": "stream",
     "text": [
      "95\n"
     ]
    }
   ],
   "source": [
    "associations= list(rules)\n",
    "print(len(associations))"
   ]
  },
  {
   "cell_type": "code",
   "execution_count": 111,
   "metadata": {},
   "outputs": [
    {
     "name": "stdout",
     "output_type": "stream",
     "text": [
      "Thus, we will get the 95 Rules, By executing the above lines of code.\n"
     ]
    }
   ],
   "source": [
    "print(\"Thus, we will get the\",len(associations),\"Rules, By executing the above lines of code.\")"
   ]
  },
  {
   "cell_type": "code",
   "execution_count": 112,
   "metadata": {},
   "outputs": [
    {
     "data": {
      "text/plain": [
       "[RelationRecord(items=frozenset({'almonds', 'burgers'}), support=0.01, ordered_statistics=[OrderedStatistic(items_base=frozenset({'almonds'}), items_add=frozenset({'burgers'}), confidence=0.35714285714285715, lift=4.464285714285714)]),\n",
       " RelationRecord(items=frozenset({'almonds', 'soup'}), support=0.008, ordered_statistics=[OrderedStatistic(items_base=frozenset({'almonds'}), items_add=frozenset({'soup'}), confidence=0.2857142857142857, lift=3.913894324853229)]),\n",
       " RelationRecord(items=frozenset({'frozen smoothie', 'antioxydant juice'}), support=0.003, ordered_statistics=[OrderedStatistic(items_base=frozenset({'antioxydant juice'}), items_add=frozenset({'frozen smoothie'}), confidence=0.33333333333333337, lift=5.376344086021506)]),\n",
       " RelationRecord(items=frozenset({'asparagus', 'milk'}), support=0.003, ordered_statistics=[OrderedStatistic(items_base=frozenset({'asparagus'}), items_add=frozenset({'milk'}), confidence=0.5, lift=3.676470588235294)]),\n",
       " RelationRecord(items=frozenset({'babies food', 'chocolate'}), support=0.003, ordered_statistics=[OrderedStatistic(items_base=frozenset({'babies food'}), items_add=frozenset({'chocolate'}), confidence=1.0, lift=5.319148936170213)]),\n",
       " RelationRecord(items=frozenset({'soup', 'barbecue sauce'}), support=0.004, ordered_statistics=[OrderedStatistic(items_base=frozenset({'barbecue sauce'}), items_add=frozenset({'soup'}), confidence=0.4444444444444445, lift=6.088280060882801)]),\n",
       " RelationRecord(items=frozenset({'turkey', 'barbecue sauce'}), support=0.004, ordered_statistics=[OrderedStatistic(items_base=frozenset({'barbecue sauce'}), items_add=frozenset({'turkey'}), confidence=0.4444444444444445, lift=5.625879043600563)]),\n",
       " RelationRecord(items=frozenset({'black tea', 'french wine'}), support=0.003, ordered_statistics=[OrderedStatistic(items_base=frozenset({'black tea'}), items_add=frozenset({'french wine'}), confidence=0.3, lift=13.636363636363637)]),\n",
       " RelationRecord(items=frozenset({'frozen smoothie', 'black tea'}), support=0.003, ordered_statistics=[OrderedStatistic(items_base=frozenset({'black tea'}), items_add=frozenset({'frozen smoothie'}), confidence=0.3, lift=4.838709677419355)]),\n",
       " RelationRecord(items=frozenset({'black tea', 'ground beef'}), support=0.004, ordered_statistics=[OrderedStatistic(items_base=frozenset({'black tea'}), items_add=frozenset({'ground beef'}), confidence=0.4, lift=4.081632653061225)]),\n",
       " RelationRecord(items=frozenset({'black tea', 'herb & pepper'}), support=0.004, ordered_statistics=[OrderedStatistic(items_base=frozenset({'black tea'}), items_add=frozenset({'herb & pepper'}), confidence=0.4, lift=5.88235294117647)]),\n",
       " RelationRecord(items=frozenset({'black tea', 'salmon'}), support=0.003, ordered_statistics=[OrderedStatistic(items_base=frozenset({'black tea'}), items_add=frozenset({'salmon'}), confidence=0.3, lift=7.142857142857142)]),\n",
       " RelationRecord(items=frozenset({'black tea', 'spaghetti'}), support=0.006, ordered_statistics=[OrderedStatistic(items_base=frozenset({'black tea'}), items_add=frozenset({'spaghetti'}), confidence=0.6, lift=3.243243243243243)]),\n",
       " RelationRecord(items=frozenset({'blueberries', 'cooking oil'}), support=0.003, ordered_statistics=[OrderedStatistic(items_base=frozenset({'blueberries'}), items_add=frozenset({'cooking oil'}), confidence=0.3, lift=5.454545454545454)]),\n",
       " RelationRecord(items=frozenset({'blueberries', 'ground beef'}), support=0.003, ordered_statistics=[OrderedStatistic(items_base=frozenset({'blueberries'}), items_add=frozenset({'ground beef'}), confidence=0.3, lift=3.061224489795918)]),\n",
       " RelationRecord(items=frozenset({'olive oil', 'blueberries'}), support=0.003, ordered_statistics=[OrderedStatistic(items_base=frozenset({'blueberries'}), items_add=frozenset({'olive oil'}), confidence=0.3, lift=3.9473684210526314)]),\n",
       " RelationRecord(items=frozenset({'blueberries', 'soup'}), support=0.003, ordered_statistics=[OrderedStatistic(items_base=frozenset({'blueberries'}), items_add=frozenset({'soup'}), confidence=0.3, lift=4.109589041095891)]),\n",
       " RelationRecord(items=frozenset({'body spray', 'chicken'}), support=0.003, ordered_statistics=[OrderedStatistic(items_base=frozenset({'body spray'}), items_add=frozenset({'chicken'}), confidence=0.23076923076923078, lift=3.444316877152698)]),\n",
       " RelationRecord(items=frozenset({'body spray', 'energy bar'}), support=0.003, ordered_statistics=[OrderedStatistic(items_base=frozenset({'body spray'}), items_add=frozenset({'energy bar'}), confidence=0.23076923076923078, lift=7.211538461538462)]),\n",
       " RelationRecord(items=frozenset({'body spray', 'green tea'}), support=0.006, ordered_statistics=[OrderedStatistic(items_base=frozenset({'body spray'}), items_add=frozenset({'green tea'}), confidence=0.46153846153846156, lift=3.273322422258593)]),\n",
       " RelationRecord(items=frozenset({'body spray', 'soup'}), support=0.005, ordered_statistics=[OrderedStatistic(items_base=frozenset({'body spray'}), items_add=frozenset({'soup'}), confidence=0.38461538461538464, lift=5.268703898840886)]),\n",
       " RelationRecord(items=frozenset({'brownies', 'honey'}), support=0.004, ordered_statistics=[OrderedStatistic(items_base=frozenset({'brownies'}), items_add=frozenset({'honey'}), confidence=0.2, lift=4.545454545454546)]),\n",
       " RelationRecord(items=frozenset({'brownies', 'tomatoes'}), support=0.004, ordered_statistics=[OrderedStatistic(items_base=frozenset({'brownies'}), items_add=frozenset({'tomatoes'}), confidence=0.2, lift=4.878048780487805)]),\n",
       " RelationRecord(items=frozenset({'fromage blanc', 'burgers'}), support=0.004, ordered_statistics=[OrderedStatistic(items_base=frozenset({'fromage blanc'}), items_add=frozenset({'burgers'}), confidence=0.3076923076923077, lift=3.8461538461538463)]),\n",
       " RelationRecord(items=frozenset({'burgers', 'zucchini'}), support=0.003, ordered_statistics=[OrderedStatistic(items_base=frozenset({'zucchini'}), items_add=frozenset({'burgers'}), confidence=0.3, lift=3.75)]),\n",
       " RelationRecord(items=frozenset({'butter', 'salt'}), support=0.003, ordered_statistics=[OrderedStatistic(items_base=frozenset({'salt'}), items_add=frozenset({'butter'}), confidence=0.23076923076923078, lift=6.072874493927126)]),\n",
       " RelationRecord(items=frozenset({'cake', 'fromage blanc'}), support=0.004, ordered_statistics=[OrderedStatistic(items_base=frozenset({'fromage blanc'}), items_add=frozenset({'cake'}), confidence=0.3076923076923077, lift=4.048582995951417)]),\n",
       " RelationRecord(items=frozenset({'cake', 'mashed potato'}), support=0.003, ordered_statistics=[OrderedStatistic(items_base=frozenset({'mashed potato'}), items_add=frozenset({'cake'}), confidence=0.375, lift=4.934210526315789)]),\n",
       " RelationRecord(items=frozenset({'cake', 'toothpaste'}), support=0.004, ordered_statistics=[OrderedStatistic(items_base=frozenset({'toothpaste'}), items_add=frozenset({'cake'}), confidence=0.5, lift=6.578947368421053)]),\n",
       " RelationRecord(items=frozenset({'tomato juice', 'candy bars'}), support=0.003, ordered_statistics=[OrderedStatistic(items_base=frozenset({'candy bars'}), items_add=frozenset({'tomato juice'}), confidence=0.27272727272727276, lift=6.3424947145877395)]),\n",
       " RelationRecord(items=frozenset({'ground beef', 'carrots'}), support=0.004, ordered_statistics=[OrderedStatistic(items_base=frozenset({'carrots'}), items_add=frozenset({'ground beef'}), confidence=0.3333333333333333, lift=3.401360544217687)]),\n",
       " RelationRecord(items=frozenset({'soup', 'carrots'}), support=0.003, ordered_statistics=[OrderedStatistic(items_base=frozenset({'carrots'}), items_add=frozenset({'soup'}), confidence=0.25, lift=3.4246575342465757)]),\n",
       " RelationRecord(items=frozenset({'cooking oil', 'cereals'}), support=0.003, ordered_statistics=[OrderedStatistic(items_base=frozenset({'cereals'}), items_add=frozenset({'cooking oil'}), confidence=0.21428571428571427, lift=3.896103896103896)]),\n",
       " RelationRecord(items=frozenset({'frozen vegetables', 'cereals'}), support=0.004, ordered_statistics=[OrderedStatistic(items_base=frozenset({'cereals'}), items_add=frozenset({'frozen vegetables'}), confidence=0.2857142857142857, lift=3.007518796992481)]),\n",
       " RelationRecord(items=frozenset({'cider', 'chicken'}), support=0.003, ordered_statistics=[OrderedStatistic(items_base=frozenset({'cider'}), items_add=frozenset({'chicken'}), confidence=0.25, lift=3.731343283582089)]),\n",
       " RelationRecord(items=frozenset({'extra dark chocolate', 'chicken'}), support=0.004, ordered_statistics=[OrderedStatistic(items_base=frozenset({'extra dark chocolate'}), items_add=frozenset({'chicken'}), confidence=0.4, lift=5.970149253731344)]),\n",
       " RelationRecord(items=frozenset({'light cream', 'chicken'}), support=0.006, ordered_statistics=[OrderedStatistic(items_base=frozenset({'light cream'}), items_add=frozenset({'chicken'}), confidence=0.31578947368421056, lift=4.713275726630008)]),\n",
       " RelationRecord(items=frozenset({'tea', 'chicken'}), support=0.003, ordered_statistics=[OrderedStatistic(items_base=frozenset({'tea'}), items_add=frozenset({'chicken'}), confidence=0.6, lift=8.955223880597014)]),\n",
       " RelationRecord(items=frozenset({'chutney', 'spaghetti'}), support=0.003, ordered_statistics=[OrderedStatistic(items_base=frozenset({'chutney'}), items_add=frozenset({'spaghetti'}), confidence=0.75, lift=4.054054054054054)]),\n",
       " RelationRecord(items=frozenset({'cider', 'honey'}), support=0.003, ordered_statistics=[OrderedStatistic(items_base=frozenset({'cider'}), items_add=frozenset({'honey'}), confidence=0.25, lift=5.6818181818181825)]),\n",
       " RelationRecord(items=frozenset({'cookies', 'eggplant'}), support=0.003, ordered_statistics=[OrderedStatistic(items_base=frozenset({'eggplant'}), items_add=frozenset({'cookies'}), confidence=0.3, lift=3.846153846153846)]),\n",
       " RelationRecord(items=frozenset({'shallot', 'cookies'}), support=0.004, ordered_statistics=[OrderedStatistic(items_base=frozenset({'shallot'}), items_add=frozenset({'cookies'}), confidence=0.3076923076923077, lift=3.9447731755424065)]),\n",
       " RelationRecord(items=frozenset({'gums', 'cooking oil'}), support=0.004, ordered_statistics=[OrderedStatistic(items_base=frozenset({'gums'}), items_add=frozenset({'cooking oil'}), confidence=0.3076923076923077, lift=5.594405594405595)]),\n",
       " RelationRecord(items=frozenset({'light cream', 'cooking oil'}), support=0.004, ordered_statistics=[OrderedStatistic(items_base=frozenset({'light cream'}), items_add=frozenset({'cooking oil'}), confidence=0.2105263157894737, lift=3.8277511961722492)]),\n",
       " RelationRecord(items=frozenset({'oil', 'cooking oil'}), support=0.007, ordered_statistics=[OrderedStatistic(items_base=frozenset({'oil'}), items_add=frozenset({'cooking oil'}), confidence=0.25, lift=4.545454545454546)]),\n",
       " RelationRecord(items=frozenset({'eggs', 'corn'}), support=0.004, ordered_statistics=[OrderedStatistic(items_base=frozenset({'corn'}), items_add=frozenset({'eggs'}), confidence=0.6666666666666666, lift=3.2206119162640903)]),\n",
       " RelationRecord(items=frozenset({'frozen smoothie', 'cottage cheese'}), support=0.006, ordered_statistics=[OrderedStatistic(items_base=frozenset({'cottage cheese'}), items_add=frozenset({'frozen smoothie'}), confidence=0.27272727272727276, lift=4.398826979472141)]),\n",
       " RelationRecord(items=frozenset({'melons', 'escalope'}), support=0.003, ordered_statistics=[OrderedStatistic(items_base=frozenset({'melons'}), items_add=frozenset({'escalope'}), confidence=0.33333333333333337, lift=4.065040650406504)]),\n",
       " RelationRecord(items=frozenset({'shallot', 'escalope'}), support=0.004, ordered_statistics=[OrderedStatistic(items_base=frozenset({'shallot'}), items_add=frozenset({'escalope'}), confidence=0.3076923076923077, lift=3.75234521575985)]),\n",
       " RelationRecord(items=frozenset({'extra dark chocolate', 'frozen vegetables'}), support=0.004, ordered_statistics=[OrderedStatistic(items_base=frozenset({'extra dark chocolate'}), items_add=frozenset({'frozen vegetables'}), confidence=0.4, lift=4.2105263157894735)]),\n",
       " RelationRecord(items=frozenset({'olive oil', 'extra dark chocolate'}), support=0.004, ordered_statistics=[OrderedStatistic(items_base=frozenset({'extra dark chocolate'}), items_add=frozenset({'olive oil'}), confidence=0.4, lift=5.2631578947368425)]),\n",
       " RelationRecord(items=frozenset({'turkey', 'extra dark chocolate'}), support=0.004, ordered_statistics=[OrderedStatistic(items_base=frozenset({'extra dark chocolate'}), items_add=frozenset({'turkey'}), confidence=0.4, lift=5.063291139240507)]),\n",
       " RelationRecord(items=frozenset({'fresh bread', 'french wine'}), support=0.005, ordered_statistics=[OrderedStatistic(items_base=frozenset({'french wine'}), items_add=frozenset({'fresh bread'}), confidence=0.2272727272727273, lift=6.313131313131314)]),\n",
       " RelationRecord(items=frozenset({'frozen vegetables', 'french wine'}), support=0.007, ordered_statistics=[OrderedStatistic(items_base=frozenset({'french wine'}), items_add=frozenset({'frozen vegetables'}), confidence=0.31818181818181823, lift=3.3492822966507183)]),\n",
       " RelationRecord(items=frozenset({'pancakes', 'french wine'}), support=0.006, ordered_statistics=[OrderedStatistic(items_base=frozenset({'french wine'}), items_add=frozenset({'pancakes'}), confidence=0.27272727272727276, lift=3.246753246753247)]),\n",
       " RelationRecord(items=frozenset({'salt', 'fresh bread'}), support=0.003, ordered_statistics=[OrderedStatistic(items_base=frozenset({'salt'}), items_add=frozenset({'fresh bread'}), confidence=0.23076923076923078, lift=6.4102564102564115)]),\n",
       " RelationRecord(items=frozenset({'fresh tuna', 'fromage blanc'}), support=0.003, ordered_statistics=[OrderedStatistic(items_base=frozenset({'fromage blanc'}), items_add=frozenset({'fresh tuna'}), confidence=0.23076923076923078, lift=9.23076923076923)]),\n",
       " RelationRecord(items=frozenset({'fresh tuna', 'honey'}), support=0.008, ordered_statistics=[OrderedStatistic(items_base=frozenset({'fresh tuna'}), items_add=frozenset({'honey'}), confidence=0.32, lift=7.272727272727273)]),\n",
       " RelationRecord(items=frozenset({'olive oil', 'fresh tuna'}), support=0.007, ordered_statistics=[OrderedStatistic(items_base=frozenset({'fresh tuna'}), items_add=frozenset({'olive oil'}), confidence=0.27999999999999997, lift=3.6842105263157894)]),\n",
       " RelationRecord(items=frozenset({'frozen smoothie', 'fromage blanc'}), support=0.003, ordered_statistics=[OrderedStatistic(items_base=frozenset({'fromage blanc'}), items_add=frozenset({'frozen smoothie'}), confidence=0.23076923076923078, lift=3.7220843672456576)]),\n",
       " RelationRecord(items=frozenset({'fromage blanc', 'honey'}), support=0.007, ordered_statistics=[OrderedStatistic(items_base=frozenset({'fromage blanc'}), items_add=frozenset({'honey'}), confidence=0.5384615384615385, lift=12.23776223776224)]),\n",
       " RelationRecord(items=frozenset({'parmesan cheese', 'fromage blanc'}), support=0.004, ordered_statistics=[OrderedStatistic(items_base=frozenset({'fromage blanc'}), items_add=frozenset({'parmesan cheese'}), confidence=0.3076923076923077, lift=9.324009324009324)]),\n",
       " RelationRecord(items=frozenset({'frozen smoothie', 'green grapes'}), support=0.003, ordered_statistics=[OrderedStatistic(items_base=frozenset({'green grapes'}), items_add=frozenset({'frozen smoothie'}), confidence=0.27272727272727276, lift=4.398826979472141)]),\n",
       " RelationRecord(items=frozenset({'frozen smoothie', 'gums'}), support=0.003, ordered_statistics=[OrderedStatistic(items_base=frozenset({'gums'}), items_add=frozenset({'frozen smoothie'}), confidence=0.23076923076923078, lift=3.7220843672456576)]),\n",
       " RelationRecord(items=frozenset({'gums', 'frozen vegetables'}), support=0.004, ordered_statistics=[OrderedStatistic(items_base=frozenset({'gums'}), items_add=frozenset({'frozen vegetables'}), confidence=0.3076923076923077, lift=3.2388663967611335)]),\n",
       " RelationRecord(items=frozenset({'magazines', 'frozen vegetables'}), support=0.003, ordered_statistics=[OrderedStatistic(items_base=frozenset({'magazines'}), items_add=frozenset({'frozen vegetables'}), confidence=0.375, lift=3.9473684210526314)]),\n",
       " RelationRecord(items=frozenset({'frozen vegetables', 'mashed potato'}), support=0.005, ordered_statistics=[OrderedStatistic(items_base=frozenset({'mashed potato'}), items_add=frozenset({'frozen vegetables'}), confidence=0.625, lift=6.578947368421052)]),\n",
       " RelationRecord(items=frozenset({'frozen vegetables', 'tomatoes'}), support=0.012, ordered_statistics=[OrderedStatistic(items_base=frozenset({'tomatoes'}), items_add=frozenset({'frozen vegetables'}), confidence=0.2926829268292683, lift=3.0808729139922977)]),\n",
       " RelationRecord(items=frozenset({'pancakes', 'gluten free bar'}), support=0.003, ordered_statistics=[OrderedStatistic(items_base=frozenset({'gluten free bar'}), items_add=frozenset({'pancakes'}), confidence=0.42857142857142855, lift=5.10204081632653)]),\n",
       " RelationRecord(items=frozenset({'grated cheese', 'gums'}), support=0.003, ordered_statistics=[OrderedStatistic(items_base=frozenset({'gums'}), items_add=frozenset({'grated cheese'}), confidence=0.23076923076923078, lift=4.524886877828055)]),\n",
       " RelationRecord(items=frozenset({'grated cheese', 'light cream'}), support=0.004, ordered_statistics=[OrderedStatistic(items_base=frozenset({'light cream'}), items_add=frozenset({'grated cheese'}), confidence=0.2105263157894737, lift=4.12796697626419)]),\n",
       " RelationRecord(items=frozenset({'grated cheese', 'nonfat milk'}), support=0.003, ordered_statistics=[OrderedStatistic(items_base=frozenset({'nonfat milk'}), items_add=frozenset({'grated cheese'}), confidence=0.3, lift=5.882352941176471)]),\n",
       " RelationRecord(items=frozenset({'mayonnaise', 'green tea'}), support=0.003, ordered_statistics=[OrderedStatistic(items_base=frozenset({'mayonnaise'}), items_add=frozenset({'green tea'}), confidence=0.5, lift=3.546099290780142)]),\n",
       " RelationRecord(items=frozenset({'melons', 'ground beef'}), support=0.003, ordered_statistics=[OrderedStatistic(items_base=frozenset({'melons'}), items_add=frozenset({'ground beef'}), confidence=0.33333333333333337, lift=3.4013605442176873)]),\n",
       " RelationRecord(items=frozenset({'ground beef', 'nonfat milk'}), support=0.003, ordered_statistics=[OrderedStatistic(items_base=frozenset({'nonfat milk'}), items_add=frozenset({'ground beef'}), confidence=0.3, lift=3.061224489795918)]),\n",
       " RelationRecord(items=frozenset({'soup', 'gums'}), support=0.003, ordered_statistics=[OrderedStatistic(items_base=frozenset({'gums'}), items_add=frozenset({'soup'}), confidence=0.23076923076923078, lift=3.1612223393045316)]),\n",
       " RelationRecord(items=frozenset({'ham', 'spaghetti'}), support=0.013, ordered_statistics=[OrderedStatistic(items_base=frozenset({'ham'}), items_add=frozenset({'spaghetti'}), confidence=0.5652173913043478, lift=3.055229142185664)]),\n",
       " RelationRecord(items=frozenset({'light cream', 'herb & pepper'}), support=0.004, ordered_statistics=[OrderedStatistic(items_base=frozenset({'light cream'}), items_add=frozenset({'herb & pepper'}), confidence=0.2105263157894737, lift=3.0959752321981426)]),\n",
       " RelationRecord(items=frozenset({'tomato sauce', 'herb & pepper'}), support=0.005, ordered_statistics=[OrderedStatistic(items_base=frozenset({'tomato sauce'}), items_add=frozenset({'herb & pepper'}), confidence=0.2777777777777778, lift=4.084967320261438)]),\n",
       " RelationRecord(items=frozenset({'whole wheat pasta', 'herb & pepper'}), support=0.008, ordered_statistics=[OrderedStatistic(items_base=frozenset({'whole wheat pasta'}), items_add=frozenset({'herb & pepper'}), confidence=0.22222222222222224, lift=3.2679738562091503)]),\n",
       " RelationRecord(items=frozenset({'olive oil', 'light cream'}), support=0.007, ordered_statistics=[OrderedStatistic(items_base=frozenset({'light cream'}), items_add=frozenset({'olive oil'}), confidence=0.368421052631579, lift=4.847645429362881)]),\n",
       " RelationRecord(items=frozenset({'soup', 'light cream'}), support=0.005, ordered_statistics=[OrderedStatistic(items_base=frozenset({'light cream'}), items_add=frozenset({'soup'}), confidence=0.2631578947368421, lift=3.6049026676279743)]),\n",
       " RelationRecord(items=frozenset({'magazines', 'salmon'}), support=0.003, ordered_statistics=[OrderedStatistic(items_base=frozenset({'magazines'}), items_add=frozenset({'salmon'}), confidence=0.375, lift=8.928571428571429)]),\n",
       " RelationRecord(items=frozenset({'soup', 'meatballs'}), support=0.006, ordered_statistics=[OrderedStatistic(items_base=frozenset({'meatballs'}), items_add=frozenset({'soup'}), confidence=0.27272727272727276, lift=3.735990037359901)]),\n",
       " RelationRecord(items=frozenset({'melons', 'mint'}), support=0.003, ordered_statistics=[OrderedStatistic(items_base=frozenset({'melons'}), items_add=frozenset({'mint'}), confidence=0.33333333333333337, lift=15.151515151515154)]),\n",
       " RelationRecord(items=frozenset({'turkey', 'melons'}), support=0.003, ordered_statistics=[OrderedStatistic(items_base=frozenset({'melons'}), items_add=frozenset({'turkey'}), confidence=0.33333333333333337, lift=4.219409282700422)]),\n",
       " RelationRecord(items=frozenset({'strong cheese', 'milk'}), support=0.004, ordered_statistics=[OrderedStatistic(items_base=frozenset({'strong cheese'}), items_add=frozenset({'milk'}), confidence=0.4444444444444445, lift=3.2679738562091503)]),\n",
       " RelationRecord(items=frozenset({'mint', 'tomato sauce'}), support=0.004, ordered_statistics=[OrderedStatistic(items_base=frozenset({'tomato sauce'}), items_add=frozenset({'mint'}), confidence=0.22222222222222224, lift=10.101010101010102)]),\n",
       " RelationRecord(items=frozenset({'tomato juice', 'oil'}), support=0.006, ordered_statistics=[OrderedStatistic(items_base=frozenset({'oil'}), items_add=frozenset({'tomato juice'}), confidence=0.21428571428571427, lift=4.983388704318937)]),\n",
       " RelationRecord(items=frozenset({'olive oil', 'whole wheat pasta'}), support=0.015, ordered_statistics=[OrderedStatistic(items_base=frozenset({'whole wheat pasta'}), items_add=frozenset({'olive oil'}), confidence=0.4166666666666667, lift=5.482456140350878)]),\n",
       " RelationRecord(items=frozenset({'pancakes', 'tea'}), support=0.003, ordered_statistics=[OrderedStatistic(items_base=frozenset({'tea'}), items_add=frozenset({'pancakes'}), confidence=0.6, lift=7.142857142857142)]),\n",
       " RelationRecord(items=frozenset({'pasta', 'shrimp'}), support=0.021, ordered_statistics=[OrderedStatistic(items_base=frozenset({'pasta'}), items_add=frozenset({'shrimp'}), confidence=0.8076923076923078, lift=9.731232622798888), OrderedStatistic(items_base=frozenset({'shrimp'}), items_add=frozenset({'pasta'}), confidence=0.25301204819277107, lift=9.731232622798888)]),\n",
       " RelationRecord(items=frozenset({'soup', 'salt'}), support=0.003, ordered_statistics=[OrderedStatistic(items_base=frozenset({'salt'}), items_add=frozenset({'soup'}), confidence=0.23076923076923078, lift=3.1612223393045316)]),\n",
       " RelationRecord(items=frozenset({'soup', 'soda'}), support=0.003, ordered_statistics=[OrderedStatistic(items_base=frozenset({'soda'}), items_add=frozenset({'soup'}), confidence=0.5, lift=6.849315068493151)]),\n",
       " RelationRecord(items=frozenset({'soup', 'tomatoes'}), support=0.009, ordered_statistics=[OrderedStatistic(items_base=frozenset({'tomatoes'}), items_add=frozenset({'soup'}), confidence=0.2195121951219512, lift=3.0070163715335783)])]"
      ]
     },
     "execution_count": 112,
     "metadata": {},
     "output_type": "execute_result"
    }
   ],
   "source": [
    "associations"
   ]
  },
  {
   "cell_type": "markdown",
   "metadata": {},
   "source": [
    "### Understanding the Association Rules:"
   ]
  },
  {
   "cell_type": "markdown",
   "metadata": {},
   "source": [
    "The apriori algorithm automatically sorts the\n",
    "associations’ rules based on relevance, thus the\n",
    "topmost rule has the highest relevance compared\n",
    "to the other rules returned by the algorithm.\n",
    "Let’s have a look at the first and most relevant\n",
    "association rule from the given dataset.\n"
   ]
  },
  {
   "cell_type": "code",
   "execution_count": 113,
   "metadata": {},
   "outputs": [
    {
     "data": {
      "text/plain": [
       "RelationRecord(items=frozenset({'almonds', 'burgers'}), support=0.01, ordered_statistics=[OrderedStatistic(items_base=frozenset({'almonds'}), items_add=frozenset({'burgers'}), confidence=0.35714285714285715, lift=4.464285714285714)])"
      ]
     },
     "execution_count": 113,
     "metadata": {},
     "output_type": "execute_result"
    }
   ],
   "source": [
    "associations[0]"
   ]
  },
  {
   "cell_type": "markdown",
   "metadata": {},
   "source": [
    "Rule one is the most relevant rule that the\n",
    "algorithm identified from the given dataset.\n",
    "The above output specifies the association\n",
    "between two items ‘burgers‘ and 'almonds’. The\n",
    "first rules, states that the almonds and burgers are\n",
    "bought frequently by most of the customers.\n",
    "\n",
    ">item-A) items_base = 'almonds' (essential)\n",
    "\n",
    ">item-B) items_add = 'burgers' (addative)\n",
    "\n",
    ">The support vector of 0.01 is calculated by dividing\n",
    "the number of transactions containing almonds\n",
    "divided by the total number of transactions.\n",
    "\n",
    ">The confidence of 0.3571, tells us that of the total\n",
    "transactions, 35.71 % of transactions also contains\n",
    "burgers. Hence, if a customer buys almonds, it is\n",
    "35.71% chances that he also buys burgers.\n",
    "\n",
    ">Finally, the lift of 4.46 tells us that there are 4.46\n",
    "times chances that burger will be bought with\n",
    "almonds."
   ]
  },
  {
   "cell_type": "markdown",
   "metadata": {},
   "source": [
    "We can check all these things in other rules also. For example:"
   ]
  },
  {
   "cell_type": "code",
   "execution_count": 114,
   "metadata": {},
   "outputs": [
    {
     "data": {
      "text/plain": [
       "RelationRecord(items=frozenset({'almonds', 'soup'}), support=0.008, ordered_statistics=[OrderedStatistic(items_base=frozenset({'almonds'}), items_add=frozenset({'soup'}), confidence=0.2857142857142857, lift=3.913894324853229)])"
      ]
     },
     "execution_count": 114,
     "metadata": {},
     "output_type": "execute_result"
    }
   ],
   "source": [
    "associations[1]"
   ]
  },
  {
   "cell_type": "markdown",
   "metadata": {},
   "source": [
    "For rule-2 :\n",
    "\n",
    "item-A) items_base = 'almonds' (essential)\n",
    "\n",
    "item-B) items_add = 'soup' (addative)\n",
    "\n",
    "Rest, we can also explain as same as we did previously."
   ]
  },
  {
   "cell_type": "code",
   "execution_count": null,
   "metadata": {},
   "outputs": [],
   "source": []
  }
 ],
 "metadata": {
  "kernelspec": {
   "display_name": "Python 3",
   "language": "python",
   "name": "python3"
  },
  "language_info": {
   "codemirror_mode": {
    "name": "ipython",
    "version": 3
   },
   "file_extension": ".py",
   "mimetype": "text/x-python",
   "name": "python",
   "nbconvert_exporter": "python",
   "pygments_lexer": "ipython3",
   "version": "3.8.5"
  }
 },
 "nbformat": 4,
 "nbformat_minor": 4
}
