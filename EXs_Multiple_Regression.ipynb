{
 "cells": [
  {
   "cell_type": "markdown",
   "metadata": {},
   "source": [
    "# Regression Analysis in Data Science "
   ]
  },
  {
   "cell_type": "markdown",
   "metadata": {},
   "source": [
    "## LEC NO. 42) Multiple Linear Regression OR Multiple Regression:"
   ]
  },
  {
   "cell_type": "markdown",
   "metadata": {},
   "source": [
    "###### In Linear Regression We can predict the CO2 emission of a car based on the size of the engine (volume), but with multiple regression we can throw in more variables, like the weight of the car, to make the prediction more accurate. So, Here we will predict the CO2 emission of the car based on its Volume and weight."
   ]
  },
  {
   "cell_type": "markdown",
   "metadata": {},
   "source": [
    "### STEP-1) Import Packages and Classes\n",
    "The first step is to import the packages\n",
    "\n",
    "1) The Pandas module allows us to read csv files and return a DataFrame object.\n",
    "\n",
    "2) The class LinearRegression from sklearn.linear_model, it  will be used to perform linear and polynomial regression and make predictions accordingly.\n",
    "\n",
    "3) Matplotlib.pyplot for visualization of data\n",
    "\n",
    "4) Numpy for numeric calculations and array handling\n",
    "\n",
    "5) Sklearn.metrics for error checking"
   ]
  },
  {
   "cell_type": "code",
   "execution_count": 100,
   "metadata": {},
   "outputs": [],
   "source": [
    "import pandas as pd\n",
    "from sklearn.linear_model import LinearRegression\n",
    "import matplotlib.pyplot as plt\n",
    "import numpy as np\n",
    "from sklearn import metrics"
   ]
  },
  {
   "cell_type": "markdown",
   "metadata": {},
   "source": [
    "### STEP-2) Providing Data\n",
    "The second step is defining data to work with."
   ]
  },
  {
   "cell_type": "code",
   "execution_count": 101,
   "metadata": {},
   "outputs": [
    {
     "data": {
      "text/html": [
       "<div>\n",
       "<style scoped>\n",
       "    .dataframe tbody tr th:only-of-type {\n",
       "        vertical-align: middle;\n",
       "    }\n",
       "\n",
       "    .dataframe tbody tr th {\n",
       "        vertical-align: top;\n",
       "    }\n",
       "\n",
       "    .dataframe thead th {\n",
       "        text-align: right;\n",
       "    }\n",
       "</style>\n",
       "<table border=\"1\" class=\"dataframe\">\n",
       "  <thead>\n",
       "    <tr style=\"text-align: right;\">\n",
       "      <th></th>\n",
       "      <th>Car</th>\n",
       "      <th>Model</th>\n",
       "      <th>Volume</th>\n",
       "      <th>Weight</th>\n",
       "      <th>CO2</th>\n",
       "    </tr>\n",
       "  </thead>\n",
       "  <tbody>\n",
       "    <tr>\n",
       "      <th>0</th>\n",
       "      <td>Toyoty</td>\n",
       "      <td>Aygo</td>\n",
       "      <td>1000</td>\n",
       "      <td>790</td>\n",
       "      <td>99</td>\n",
       "    </tr>\n",
       "    <tr>\n",
       "      <th>1</th>\n",
       "      <td>Mitsubish</td>\n",
       "      <td>Space Star</td>\n",
       "      <td>1200</td>\n",
       "      <td>1160</td>\n",
       "      <td>95</td>\n",
       "    </tr>\n",
       "    <tr>\n",
       "      <th>2</th>\n",
       "      <td>Skoda</td>\n",
       "      <td>Citigo</td>\n",
       "      <td>1000</td>\n",
       "      <td>929</td>\n",
       "      <td>95</td>\n",
       "    </tr>\n",
       "    <tr>\n",
       "      <th>3</th>\n",
       "      <td>Fiat</td>\n",
       "      <td>500</td>\n",
       "      <td>900</td>\n",
       "      <td>865</td>\n",
       "      <td>90</td>\n",
       "    </tr>\n",
       "    <tr>\n",
       "      <th>4</th>\n",
       "      <td>Mini</td>\n",
       "      <td>Cooper</td>\n",
       "      <td>1500</td>\n",
       "      <td>1140</td>\n",
       "      <td>105</td>\n",
       "    </tr>\n",
       "  </tbody>\n",
       "</table>\n",
       "</div>"
      ],
      "text/plain": [
       "         Car       Model  Volume  Weight  CO2\n",
       "0     Toyoty        Aygo    1000     790   99\n",
       "1  Mitsubish  Space Star    1200    1160   95\n",
       "2      Skoda      Citigo    1000     929   95\n",
       "3       Fiat         500     900     865   90\n",
       "4       Mini      Cooper    1500    1140  105"
      ]
     },
     "execution_count": 101,
     "metadata": {},
     "output_type": "execute_result"
    }
   ],
   "source": [
    "df = pd.read_csv(r\"F:\\DataScience\\cars.csv\")\n",
    "df.head()"
   ]
  },
  {
   "cell_type": "markdown",
   "metadata": {},
   "source": [
    "Now make a list of the independent values and call\n",
    "this variable x.\n",
    "Put the dependent values in a variable called y.\n"
   ]
  },
  {
   "cell_type": "code",
   "execution_count": 102,
   "metadata": {},
   "outputs": [
    {
     "name": "stdout",
     "output_type": "stream",
     "text": [
      "    Weight  Volume\n",
      "0      790    1000\n",
      "1     1160    1200\n",
      "2      929    1000\n",
      "3      865     900\n",
      "4     1140    1500\n",
      "5      929    1000\n",
      "6     1109    1400\n",
      "7     1365    1500\n",
      "8     1110    1500\n",
      "9     1150    1600\n",
      "10     980    1100\n",
      "11     990    1300\n",
      "12    1112    1000\n",
      "13    1252    1600\n",
      "14    1326    1600\n"
     ]
    },
    {
     "data": {
      "text/plain": [
       "0      99\n",
       "1      95\n",
       "2      95\n",
       "3      90\n",
       "4     105\n",
       "5     105\n",
       "6      90\n",
       "7      92\n",
       "8      98\n",
       "9      99\n",
       "10     99\n",
       "11    101\n",
       "12     99\n",
       "13     94\n",
       "14     97\n",
       "Name: CO2, dtype: int64"
      ]
     },
     "execution_count": 102,
     "metadata": {},
     "output_type": "execute_result"
    }
   ],
   "source": [
    "X = df[['Weight', 'Volume']]\n",
    "y = df['CO2']\n",
    "print(x)\n",
    "y"
   ]
  },
  {
   "cell_type": "markdown",
   "metadata": {},
   "source": [
    "## STEP-3)  Create a Model and Fit it\n",
    "The next step is to create a linear regression model\n",
    "and fit it using the existing data."
   ]
  },
  {
   "cell_type": "code",
   "execution_count": 103,
   "metadata": {},
   "outputs": [],
   "source": [
    "# Let’s create an instance of the class LinearRegression, which will\n",
    "# represent the regression model:\n",
    "MLR_model = LinearRegression()"
   ]
  },
  {
   "cell_type": "code",
   "execution_count": 104,
   "metadata": {},
   "outputs": [
    {
     "data": {
      "text/plain": [
       "LinearRegression()"
      ]
     },
     "execution_count": 104,
     "metadata": {},
     "output_type": "execute_result"
    }
   ],
   "source": [
    "# This object has a method called fit() that takes the independent and\n",
    "# dependent values as parameters and fills the regression object with data \n",
    "# that describes the relationship.\n",
    "MLR_model.fit(X,y)"
   ]
  },
  {
   "cell_type": "markdown",
   "metadata": {},
   "source": [
    "OR we can also use:\n",
    "\n",
    "MLR_model = LinearRegression().fit(X, y)"
   ]
  },
  {
   "cell_type": "markdown",
   "metadata": {},
   "source": [
    "### STEP-4) Get Results as Coefficient\n",
    "Once you have your model fitted, you can get the\n",
    "results to check whether the model works\n",
    "satisfactorily and interpret it."
   ]
  },
  {
   "cell_type": "markdown",
   "metadata": {},
   "source": [
    "###### Coefficient:\n",
    "The coefficient is a factor that describes the\n",
    "relationship with an unknown variable.\n",
    "In this case, we can ask for the coefficient value of\n",
    "weight against CO2, and for volume against CO2.\n",
    "The answer(s) we get tells us what would happen if\n",
    "we increase, or decrease, one of the independent\n",
    "values."
   ]
  },
  {
   "cell_type": "code",
   "execution_count": 105,
   "metadata": {},
   "outputs": [
    {
     "name": "stdout",
     "output_type": "stream",
     "text": [
      "[-0.01391516  0.00651925]\n",
      "The result array is represents the coefficient values corresponding to weight and volume.\n"
     ]
    }
   ],
   "source": [
    "# Print the coefficient values of the regression object:\n",
    "print(MLR_model.coef_)\n",
    "print(\"The result array is represents the coefficient values corresponding to weight and volume.\")"
   ]
  },
  {
   "cell_type": "markdown",
   "metadata": {},
   "source": [
    "### STEP-5) Predict Response\n",
    "Once there is a satisfactory model, you can use it\n",
    "for predictions with either existing or new data.\n",
    "To obtain the predicted response, use .predict() .\n",
    "\n",
    "Now we have a regression object that are ready to\n",
    "predict CO2 values based on a car's weight and\n",
    "volume."
   ]
  },
  {
   "cell_type": "code",
   "execution_count": 106,
   "metadata": {},
   "outputs": [
    {
     "name": "stdout",
     "output_type": "stream",
     "text": [
      "predicted response: [99.4165025  95.57174092 97.48229466 97.72094057 97.80581801 97.48229466\n",
      " 97.5852635  94.67490605 98.22327294 98.31859097 97.42454589 98.58924345\n",
      " 94.9358196  96.89924422 95.86952206]\n"
     ]
    }
   ],
   "source": [
    "y_pred = MLR_model.predict(X)\n",
    "print('predicted response:', y_pred)"
   ]
  },
  {
   "cell_type": "code",
   "execution_count": 107,
   "metadata": {},
   "outputs": [
    {
     "name": "stdout",
     "output_type": "stream",
     "text": [
      "[80.36037824]\n"
     ]
    }
   ],
   "source": [
    "#predict the CO2 emission of a car where the weight is 2300kg, and the volume is 1300cm3 :\n",
    "predictedCO2 = MLR_model.predict([[2300, 1300]])\n",
    "print(predictedCO2)"
   ]
  },
  {
   "cell_type": "markdown",
   "metadata": {},
   "source": [
    "In above example, We have predicted that a car with 1.3 litre\n",
    "engine, and a weight of 2300 kg, will release\n",
    "approximately 80 grams of CO2 for every\n",
    "kilometre it drives.\n",
    "\n",
    "(It is different from ppt becuse we use differen csv file which have only 15 rows data)"
   ]
  },
  {
   "cell_type": "markdown",
   "metadata": {},
   "source": [
    "### STEP-6) Model Evaluation"
   ]
  },
  {
   "cell_type": "markdown",
   "metadata": {},
   "source": [
    "It’s important that our models have high, out-of-sample\n",
    "accuracy, because the purpose of our model is, of course, to\n",
    "make correct predictions on unknown data.\n",
    "So, how can we improve out-of-sample accuracy?\n",
    "One way is to use another evaluation approach called\n",
    "\"Train/Test Split.\"\n",
    "\n",
    "Train/Test Split involves splitting the dataset into training\n",
    "and testing sets, respectively, which are mutually exclusive,\n",
    "after which, you train with the training set and test with\n",
    "the testing set. This will provide a more accurate evaluation\n",
    "on out-of-sample accuracy because the testing\n",
    "dataset is NOT part of the dataset that has been used to\n",
    "train the data. It is more realistic for real world problems."
   ]
  },
  {
   "cell_type": "markdown",
   "metadata": {},
   "source": [
    "For evaluate the model first of all let's split the the dataset by using function \"train_test_split()\". You need to pass 3 parameters.\n",
    ">Features(independent variables), target(dependent variable) and test_set size\n",
    ">You can also use random_state to select records and randomly\n",
    "\n",
    "Here \"test_size\" decides the size of the data that has to be split as the test dataset. And \"random_state\" is basically used for reproducing your problem the same every time it is run."
   ]
  },
  {
   "cell_type": "code",
   "execution_count": 121,
   "metadata": {},
   "outputs": [],
   "source": [
    "from sklearn.model_selection import train_test_split\n",
    "X_train,X_test,y_train,y_test=train_test_split(X,y,test_size=0.2,random_state=0)"
   ]
  },
  {
   "cell_type": "markdown",
   "metadata": {},
   "source": [
    "In above script, the dataswt is broken into two parts in a ratio of 80:20 . It means that 80% data will be used for model training and 20% for model testing."
   ]
  },
  {
   "cell_type": "code",
   "execution_count": 122,
   "metadata": {},
   "outputs": [
    {
     "data": {
      "text/html": [
       "<div>\n",
       "<style scoped>\n",
       "    .dataframe tbody tr th:only-of-type {\n",
       "        vertical-align: middle;\n",
       "    }\n",
       "\n",
       "    .dataframe tbody tr th {\n",
       "        vertical-align: top;\n",
       "    }\n",
       "\n",
       "    .dataframe thead th {\n",
       "        text-align: right;\n",
       "    }\n",
       "</style>\n",
       "<table border=\"1\" class=\"dataframe\">\n",
       "  <thead>\n",
       "    <tr style=\"text-align: right;\">\n",
       "      <th></th>\n",
       "      <th>Weight</th>\n",
       "      <th>Volume</th>\n",
       "    </tr>\n",
       "  </thead>\n",
       "  <tbody>\n",
       "    <tr>\n",
       "      <th>9</th>\n",
       "      <td>1150</td>\n",
       "      <td>1600</td>\n",
       "    </tr>\n",
       "    <tr>\n",
       "      <th>14</th>\n",
       "      <td>1326</td>\n",
       "      <td>1600</td>\n",
       "    </tr>\n",
       "    <tr>\n",
       "      <th>4</th>\n",
       "      <td>1140</td>\n",
       "      <td>1500</td>\n",
       "    </tr>\n",
       "    <tr>\n",
       "      <th>2</th>\n",
       "      <td>929</td>\n",
       "      <td>1000</td>\n",
       "    </tr>\n",
       "    <tr>\n",
       "      <th>13</th>\n",
       "      <td>1252</td>\n",
       "      <td>1600</td>\n",
       "    </tr>\n",
       "    <tr>\n",
       "      <th>10</th>\n",
       "      <td>980</td>\n",
       "      <td>1100</td>\n",
       "    </tr>\n",
       "    <tr>\n",
       "      <th>7</th>\n",
       "      <td>1365</td>\n",
       "      <td>1500</td>\n",
       "    </tr>\n",
       "    <tr>\n",
       "      <th>11</th>\n",
       "      <td>990</td>\n",
       "      <td>1300</td>\n",
       "    </tr>\n",
       "    <tr>\n",
       "      <th>3</th>\n",
       "      <td>865</td>\n",
       "      <td>900</td>\n",
       "    </tr>\n",
       "    <tr>\n",
       "      <th>0</th>\n",
       "      <td>790</td>\n",
       "      <td>1000</td>\n",
       "    </tr>\n",
       "    <tr>\n",
       "      <th>5</th>\n",
       "      <td>929</td>\n",
       "      <td>1000</td>\n",
       "    </tr>\n",
       "    <tr>\n",
       "      <th>12</th>\n",
       "      <td>1112</td>\n",
       "      <td>1000</td>\n",
       "    </tr>\n",
       "  </tbody>\n",
       "</table>\n",
       "</div>"
      ],
      "text/plain": [
       "    Weight  Volume\n",
       "9     1150    1600\n",
       "14    1326    1600\n",
       "4     1140    1500\n",
       "2      929    1000\n",
       "13    1252    1600\n",
       "10     980    1100\n",
       "7     1365    1500\n",
       "11     990    1300\n",
       "3      865     900\n",
       "0      790    1000\n",
       "5      929    1000\n",
       "12    1112    1000"
      ]
     },
     "execution_count": 122,
     "metadata": {},
     "output_type": "execute_result"
    }
   ],
   "source": [
    "X_train"
   ]
  },
  {
   "cell_type": "code",
   "execution_count": 123,
   "metadata": {},
   "outputs": [
    {
     "data": {
      "text/plain": [
       "9      99\n",
       "14     97\n",
       "4     105\n",
       "2      95\n",
       "13     94\n",
       "10     99\n",
       "7      92\n",
       "11    101\n",
       "3      90\n",
       "0      99\n",
       "5     105\n",
       "12     99\n",
       "Name: CO2, dtype: int64"
      ]
     },
     "execution_count": 123,
     "metadata": {},
     "output_type": "execute_result"
    }
   ],
   "source": [
    "y_train"
   ]
  },
  {
   "cell_type": "markdown",
   "metadata": {},
   "source": [
    "##### Now we will Train the model"
   ]
  },
  {
   "cell_type": "code",
   "execution_count": 124,
   "metadata": {},
   "outputs": [
    {
     "data": {
      "text/plain": [
       "LinearRegression()"
      ]
     },
     "execution_count": 124,
     "metadata": {},
     "output_type": "execute_result"
    }
   ],
   "source": [
    "MLR_model.fit(X_train,y_train)"
   ]
  },
  {
   "cell_type": "markdown",
   "metadata": {},
   "source": [
    "##### Now predict the values"
   ]
  },
  {
   "cell_type": "code",
   "execution_count": 125,
   "metadata": {},
   "outputs": [
    {
     "data": {
      "text/html": [
       "<div>\n",
       "<style scoped>\n",
       "    .dataframe tbody tr th:only-of-type {\n",
       "        vertical-align: middle;\n",
       "    }\n",
       "\n",
       "    .dataframe tbody tr th {\n",
       "        vertical-align: top;\n",
       "    }\n",
       "\n",
       "    .dataframe thead th {\n",
       "        text-align: right;\n",
       "    }\n",
       "</style>\n",
       "<table border=\"1\" class=\"dataframe\">\n",
       "  <thead>\n",
       "    <tr style=\"text-align: right;\">\n",
       "      <th></th>\n",
       "      <th>Weight</th>\n",
       "      <th>Volume</th>\n",
       "    </tr>\n",
       "  </thead>\n",
       "  <tbody>\n",
       "    <tr>\n",
       "      <th>1</th>\n",
       "      <td>1160</td>\n",
       "      <td>1200</td>\n",
       "    </tr>\n",
       "    <tr>\n",
       "      <th>6</th>\n",
       "      <td>1109</td>\n",
       "      <td>1400</td>\n",
       "    </tr>\n",
       "    <tr>\n",
       "      <th>8</th>\n",
       "      <td>1110</td>\n",
       "      <td>1500</td>\n",
       "    </tr>\n",
       "  </tbody>\n",
       "</table>\n",
       "</div>"
      ],
      "text/plain": [
       "   Weight  Volume\n",
       "1    1160    1200\n",
       "6    1109    1400\n",
       "8    1110    1500"
      ]
     },
     "execution_count": 125,
     "metadata": {},
     "output_type": "execute_result"
    }
   ],
   "source": [
    "X_test"
   ]
  },
  {
   "cell_type": "code",
   "execution_count": 126,
   "metadata": {},
   "outputs": [
    {
     "name": "stdout",
     "output_type": "stream",
     "text": [
      "[95.94018776 98.53610405 99.40959689]\n"
     ]
    }
   ],
   "source": [
    "pred_y=MLR_model.predict(X_test)\n",
    "print(pred_y)"
   ]
  },
  {
   "cell_type": "code",
   "execution_count": 127,
   "metadata": {},
   "outputs": [
    {
     "data": {
      "text/plain": [
       "1    95\n",
       "6    90\n",
       "8    98\n",
       "Name: CO2, dtype: int64"
      ]
     },
     "execution_count": 127,
     "metadata": {},
     "output_type": "execute_result"
    }
   ],
   "source": [
    "y_test"
   ]
  },
  {
   "cell_type": "markdown",
   "metadata": {},
   "source": [
    "##### Now we will check the error's Quantity"
   ]
  },
  {
   "cell_type": "markdown",
   "metadata": {},
   "source": [
    "There are metrics used to evaluate linear models.\n",
    "These are (1)Mean absolute error[MAE], (2)Mean squared error[MSE], (3)Root mean squared error[RMSE]\n",
    "\n",
    ">1) MAE: The easiest to understand. Represents average error.\n",
    "\n",
    ">2) MSE: Similar to MAE but noise isexaggerated and larger errors are \"punished\". It is harder to interpret than MAE as it's not in base units, however, it is generally more popular.\n",
    "\n",
    ">3) RMSE: Most popular metric, similar to MSE, however the result is square rooted to make it more interpretableas it's in base units. \n",
    "\n",
    "It is recommended that RMSE be used as the primary matric to interpret your model. Lower values of RMSE indiate better fit."
   ]
  },
  {
   "cell_type": "code",
   "execution_count": 128,
   "metadata": {},
   "outputs": [
    {
     "name": "stdout",
     "output_type": "stream",
     "text": [
      "5.0244730676231635\n"
     ]
    }
   ],
   "source": [
    "# Now we will check the predictions against the actual values by using the RMSE\n",
    "import numpy as np\n",
    "from sklearn import metrics\n",
    "print(np.sqrt(metrics.mean_squared_error(y_test,pred_y)))  \n",
    "# Square root of(MSE)"
   ]
  },
  {
   "cell_type": "markdown",
   "metadata": {},
   "source": [
    "#### Comparison between Predicted and Actual values of CO2 Emmission"
   ]
  },
  {
   "cell_type": "code",
   "execution_count": 129,
   "metadata": {},
   "outputs": [
    {
     "name": "stdout",
     "output_type": "stream",
     "text": [
      "[100.08766367  95.94018776  97.86122301  97.99683637  98.92907013\n",
      "  97.86122301  98.53610405  95.32511944  99.40959689  99.65840495\n",
      "  97.93383792  99.55268313  94.93000978  98.02461396  96.83931462]\n"
     ]
    }
   ],
   "source": [
    "predictedCO2=MLR_model.predict(X)\n",
    "print(predictedCO2)"
   ]
  },
  {
   "cell_type": "code",
   "execution_count": 130,
   "metadata": {},
   "outputs": [
    {
     "name": "stdout",
     "output_type": "stream",
     "text": [
      "Actual values of CO2 :\n"
     ]
    },
    {
     "data": {
      "text/plain": [
       "0      99\n",
       "1      95\n",
       "2      95\n",
       "3      90\n",
       "4     105\n",
       "5     105\n",
       "6      90\n",
       "7      92\n",
       "8      98\n",
       "9      99\n",
       "10     99\n",
       "11    101\n",
       "12     99\n",
       "13     94\n",
       "14     97\n",
       "Name: CO2, dtype: int64"
      ]
     },
     "execution_count": 130,
     "metadata": {},
     "output_type": "execute_result"
    }
   ],
   "source": [
    "print(\"Actual values of CO2 :\")\n",
    "y"
   ]
  },
  {
   "cell_type": "code",
   "execution_count": 139,
   "metadata": {},
   "outputs": [
    {
     "data": {
      "image/png": "[encoded data removed]",
      "text/plain": [
       "<Figure size 432x288 with 1 Axes>"
      ]
     },
     "metadata": {
      "needs_background": "light"
     },
     "output_type": "display_data"
    }
   ],
   "source": [
    "import matplotlib.pyplot as plt\n",
    "\n",
    "plt.bar([1,3,5,7,9,11],predictedCO2[0:6], label='Predicted values',color='b')\n",
    "plt.bar([2,4,6,8,10,12],y[0:6], label='Actual values', color='r')\n",
    "plt.legend()\n",
    "\n",
    "plt.xlabel('bar number')\n",
    "plt.ylabel('bar height')\n",
    "plt.title('Predicted values VS Actual values')\n",
    "plt.show()"
   ]
  },
  {
   "cell_type": "code",
   "execution_count": null,
   "metadata": {},
   "outputs": [],
   "source": []
  }
 ],
 "metadata": {
  "kernelspec": {
   "display_name": "Python 3",
   "language": "python",
   "name": "python3"
  },
  "language_info": {
   "codemirror_mode": {
    "name": "ipython",
    "version": 3
   },
   "file_extension": ".py",
   "mimetype": "text/x-python",
   "name": "python",
   "nbconvert_exporter": "python",
   "pygments_lexer": "ipython3",
   "version": "3.8.5"
  }
 },
 "nbformat": 4,
 "nbformat_minor": 4
}
