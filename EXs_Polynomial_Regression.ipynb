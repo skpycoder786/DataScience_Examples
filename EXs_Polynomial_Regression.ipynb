{
 "cells": [
  {
   "cell_type": "markdown",
   "metadata": {},
   "source": [
    "# Regression Analysis in Data Science "
   ]
  },
  {
   "cell_type": "markdown",
   "metadata": {},
   "source": [
    "## LEC NO. 43) Polynomial Regression:"
   ]
  },
  {
   "cell_type": "markdown",
   "metadata": {},
   "source": [
    "###### Here we will predict the speed of a car that passes the tollbooth at around given time.\n",
    "Python has methods for finding a relationship\n",
    "between data-points and to draw a line of\n",
    "polynomial regression.\n",
    "In the example below, we have registered 18 cars\n",
    "as they were passing a certain tollbooth.\n",
    "We have registered the car's speed, and the time of\n",
    "day (hour) the passing occurred."
   ]
  },
  {
   "cell_type": "code",
   "execution_count": 2,
   "metadata": {},
   "outputs": [
    {
     "data": {
      "image/png": "[encoded data removed]",
      "text/plain": [
       "<Figure size 432x288 with 1 Axes>"
      ]
     },
     "metadata": {
      "needs_background": "light"
     },
     "output_type": "display_data"
    }
   ],
   "source": [
    "# The x-axis represents the hours of the day and the y-axis represents the speed:\n",
    "import matplotlib.pyplot as plt\n",
    "x = [1,2,3,5,6,7,8,9,10,12,13,14,15,16,18,19,21,22]\n",
    "y =[100,90,80,60,60,55,60,65,70,70,75,76,78,79,90,99,99,100]\n",
    "plt.scatter(x,y)\n",
    "plt.title(\"speed(y) of car on given time(x)\")\n",
    "plt.show()"
   ]
  },
  {
   "cell_type": "markdown",
   "metadata": {},
   "source": [
    "### STEP-1) Import Packages and Classes\n",
    "The first step is to import the packages\n",
    "\n",
    "1) NumPy for handling Arrays and also for creating polynomial model\n",
    "\n",
    "2) Import matplotlib.pyplot library for visualization of data\n",
    "\n",
    "3) Sklearn.metrics for importing r2_score"
   ]
  },
  {
   "cell_type": "code",
   "execution_count": 3,
   "metadata": {},
   "outputs": [],
   "source": [
    "import numpy as np\n",
    "import matplotlib.pyplot as plt\n",
    "from sklearn.metrics import r2_score"
   ]
  },
  {
   "cell_type": "markdown",
   "metadata": {},
   "source": [
    "### STEP-2) Providing Data\n",
    "The second step is defining data to work with. We will use the same Example which is use above. So,"
   ]
  },
  {
   "cell_type": "code",
   "execution_count": 5,
   "metadata": {},
   "outputs": [],
   "source": [
    "x = [1,2,3,5,6,7,8,9,10,12,13,14,15,16,18,19,21,22]\n",
    "y = [100,90,80,60,60,55,60,65,70,70,75,76,78,79,90,99,99,100]"
   ]
  },
  {
   "cell_type": "markdown",
   "metadata": {},
   "source": [
    "### STEP-3)  Create a Model and Fit it\n",
    "NumPy has methods that lets us make a polynomial model(which is .poly1d()) and to fit it (which is .polyfit()) ."
   ]
  },
  {
   "cell_type": "code",
   "execution_count": 6,
   "metadata": {},
   "outputs": [
    {
     "data": {
      "text/plain": [
       "poly1d([-3.03208795e-02,  1.34333191e+00, -1.55383039e+01,  1.13768037e+02])"
      ]
     },
     "execution_count": 6,
     "metadata": {},
     "output_type": "execute_result"
    }
   ],
   "source": [
    "# Here, poly1d- A one-dimensional polynomial class.\n",
    "# And 3 in polyfit(x,y,3) represent ‘Degree of the fitting polynomial’\n",
    "\n",
    "POLY_model = np.poly1d(np.polyfit(x, y, 3))\n",
    "POLY_model"
   ]
  },
  {
   "cell_type": "markdown",
   "metadata": {},
   "source": [
    "### STEP-)  Visualise the Polynomial model\n",
    "For this purpose we will create some extra points between 1 to 22 hours time which will help us in making of polynomial regression line."
   ]
  },
  {
   "cell_type": "code",
   "execution_count": 12,
   "metadata": {},
   "outputs": [
    {
     "data": {
      "image/png": "[encoded data removed]",
      "text/plain": [
       "<Figure size 432x288 with 1 Axes>"
      ]
     },
     "metadata": {
      "needs_background": "light"
     },
     "output_type": "display_data"
    }
   ],
   "source": [
    "POLY_line = np.linspace(1, 22, 100)\n",
    "plt.scatter(x, y)\n",
    "plt.plot(POLY_line, POLY_model(POLY_line))\n",
    "# POLY_model(POLY_line) is showing the \"POLY_line follows the POLY_model \n",
    "# Polynomail Regression model\"\n",
    "\n",
    "plt.xlabel(\"Time\")\n",
    "plt.ylabel(\"Speed\")\n",
    "plt.title(\"Polynomial Regression of Speed with Time\")\n",
    "plt.show()"
   ]
  },
  {
   "cell_type": "markdown",
   "metadata": {},
   "source": [
    "### R-Squared : \n",
    "It is important to know how well the relationship\n",
    "between the values of the x- and y-axis is, if there\n",
    "are no relationship the polynomial regression can\n",
    "not be used to predict anything.\n",
    "The relationship is measured with a value called\n",
    "the r-squared.\n",
    "\n",
    "The r-squared value ranges from 0 to 1, where 0\n",
    "means no relationship, and 1 means 100% related.\n",
    "Python and the Sklearn module will compute this\n",
    "value for you, all you have to do is feed it with the\n",
    "x and y arrays. it gives the answer of Question \"How well does my data fit in a polynomial regression?\""
   ]
  },
  {
   "cell_type": "code",
   "execution_count": 13,
   "metadata": {},
   "outputs": [
    {
     "name": "stdout",
     "output_type": "stream",
     "text": [
      "0.9432150416451027\n"
     ]
    }
   ],
   "source": [
    "from sklearn.metrics import r2_score\n",
    "print(r2_score(y, POLY_model(x)))"
   ]
  },
  {
   "cell_type": "markdown",
   "metadata": {},
   "source": [
    "The above result 0.94 shows that there is a very good\n",
    "relationship, and we can use polynomial regression\n",
    "in future predictions."
   ]
  },
  {
   "cell_type": "markdown",
   "metadata": {},
   "source": [
    "### STEP-5) Predict Future Values:\n",
    "Now we can use the information we have gathered\n",
    "to predict future values."
   ]
  },
  {
   "cell_type": "code",
   "execution_count": 15,
   "metadata": {},
   "outputs": [
    {
     "name": "stdout",
     "output_type": "stream",
     "text": [
      "88.87331269697987\n"
     ]
    }
   ],
   "source": [
    "# to predict the speed of a car that passes the tollbooth at around 17 P.M.\n",
    "speed = POLY_model(17)\n",
    "print(speed)"
   ]
  },
  {
   "cell_type": "markdown",
   "metadata": {},
   "source": [
    "The above example predicted a speed to be 88.87, which\n",
    "we also could read from the diagram.\n"
   ]
  },
  {
   "cell_type": "markdown",
   "metadata": {},
   "source": [
    "###### NOTE: WHENEVER THE RATE OF CHANGE IN DATA IS TOO HIGH,  WE WILL USE THE POLYNOMIAL REGRESSION ."
   ]
  },
  {
   "cell_type": "code",
   "execution_count": null,
   "metadata": {},
   "outputs": [],
   "source": []
  }
 ],
 "metadata": {
  "kernelspec": {
   "display_name": "Python 3",
   "language": "python",
   "name": "python3"
  },
  "language_info": {
   "codemirror_mode": {
    "name": "ipython",
    "version": 3
   },
   "file_extension": ".py",
   "mimetype": "text/x-python",
   "name": "python",
   "nbconvert_exporter": "python",
   "pygments_lexer": "ipython3",
   "version": "3.8.5"
  }
 },
 "nbformat": 4,
 "nbformat_minor": 4
}
