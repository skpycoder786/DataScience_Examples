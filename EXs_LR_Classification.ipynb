{
 "cells": [
  {
   "cell_type": "markdown",
   "metadata": {},
   "source": [
    "# Classification in Data Science "
   ]
  },
  {
   "cell_type": "markdown",
   "metadata": {},
   "source": [
    "## LEC NO. 44) Logistic Regression:"
   ]
  },
  {
   "cell_type": "markdown",
   "metadata": {},
   "source": [
    "###### Our goal is to build a logistic regression model in Python in order to determine whether candidates would get admitted to a prestigious university based on 'gmat‘ score, ‘gpa', and 'work_experience’"
   ]
  },
  {
   "cell_type": "markdown",
   "metadata": {},
   "source": [
    "### STEP-1) Importing Required Libraries\n",
    "\n",
    "1) pandas – used to create the DataFrame to capture the dataset in Python\n",
    "\n",
    "2) sklearn – used to build the logistic regression model in Python. Here from sklearn.model_selection import train_test_split is useful to split arrays or matrices into random train and test subsets.\n",
    "\n",
    "3) matplotlib – used to display charts"
   ]
  },
  {
   "cell_type": "code",
   "execution_count": 3,
   "metadata": {},
   "outputs": [],
   "source": [
    "import pandas as pd\n",
    "from sklearn.linear_model import LogisticRegression\n",
    "from sklearn.model_selection import train_test_split\n",
    "import matplotlib.pyplot as plt"
   ]
  },
  {
   "cell_type": "markdown",
   "metadata": {},
   "source": [
    "### STEP-2) Loading Data \n",
    "Gather your data, Let’s look at the dataset.\n",
    "Here, there are two possible outcomes: Admitted (represented by the value of\n",
    "‘1’) vs. Rejected (represented by the value of ‘0’).\n",
    "You can then build a logistic regression in Python,\n",
    "where:\n",
    "    \n",
    "• The 3 independent variables are the GMAT\n",
    "score, GPA and Years of work experience.    \n",
    "• The dependent variable represents whether a\n",
    "person gets admitted or not."
   ]
  },
  {
   "cell_type": "code",
   "execution_count": 4,
   "metadata": {},
   "outputs": [
    {
     "data": {
      "text/html": [
       "<div>\n",
       "<style scoped>\n",
       "    .dataframe tbody tr th:only-of-type {\n",
       "        vertical-align: middle;\n",
       "    }\n",
       "\n",
       "    .dataframe tbody tr th {\n",
       "        vertical-align: top;\n",
       "    }\n",
       "\n",
       "    .dataframe thead th {\n",
       "        text-align: right;\n",
       "    }\n",
       "</style>\n",
       "<table border=\"1\" class=\"dataframe\">\n",
       "  <thead>\n",
       "    <tr style=\"text-align: right;\">\n",
       "      <th></th>\n",
       "      <th>gmat</th>\n",
       "      <th>gpa</th>\n",
       "      <th>work_exp</th>\n",
       "      <th>admitted</th>\n",
       "    </tr>\n",
       "  </thead>\n",
       "  <tbody>\n",
       "    <tr>\n",
       "      <th>0</th>\n",
       "      <td>780</td>\n",
       "      <td>4.0</td>\n",
       "      <td>3</td>\n",
       "      <td>1</td>\n",
       "    </tr>\n",
       "    <tr>\n",
       "      <th>1</th>\n",
       "      <td>750</td>\n",
       "      <td>3.9</td>\n",
       "      <td>4</td>\n",
       "      <td>1</td>\n",
       "    </tr>\n",
       "    <tr>\n",
       "      <th>2</th>\n",
       "      <td>690</td>\n",
       "      <td>3.3</td>\n",
       "      <td>3</td>\n",
       "      <td>0</td>\n",
       "    </tr>\n",
       "    <tr>\n",
       "      <th>3</th>\n",
       "      <td>710</td>\n",
       "      <td>3.7</td>\n",
       "      <td>5</td>\n",
       "      <td>1</td>\n",
       "    </tr>\n",
       "    <tr>\n",
       "      <th>4</th>\n",
       "      <td>680</td>\n",
       "      <td>3.9</td>\n",
       "      <td>4</td>\n",
       "      <td>0</td>\n",
       "    </tr>\n",
       "    <tr>\n",
       "      <th>5</th>\n",
       "      <td>730</td>\n",
       "      <td>3.7</td>\n",
       "      <td>6</td>\n",
       "      <td>1</td>\n",
       "    </tr>\n",
       "    <tr>\n",
       "      <th>6</th>\n",
       "      <td>690</td>\n",
       "      <td>2.3</td>\n",
       "      <td>1</td>\n",
       "      <td>0</td>\n",
       "    </tr>\n",
       "    <tr>\n",
       "      <th>7</th>\n",
       "      <td>720</td>\n",
       "      <td>3.3</td>\n",
       "      <td>4</td>\n",
       "      <td>1</td>\n",
       "    </tr>\n",
       "    <tr>\n",
       "      <th>8</th>\n",
       "      <td>740</td>\n",
       "      <td>3.3</td>\n",
       "      <td>5</td>\n",
       "      <td>1</td>\n",
       "    </tr>\n",
       "    <tr>\n",
       "      <th>9</th>\n",
       "      <td>690</td>\n",
       "      <td>1.7</td>\n",
       "      <td>1</td>\n",
       "      <td>0</td>\n",
       "    </tr>\n",
       "    <tr>\n",
       "      <th>10</th>\n",
       "      <td>610</td>\n",
       "      <td>2.7</td>\n",
       "      <td>3</td>\n",
       "      <td>0</td>\n",
       "    </tr>\n",
       "    <tr>\n",
       "      <th>11</th>\n",
       "      <td>690</td>\n",
       "      <td>3.7</td>\n",
       "      <td>5</td>\n",
       "      <td>1</td>\n",
       "    </tr>\n",
       "    <tr>\n",
       "      <th>12</th>\n",
       "      <td>710</td>\n",
       "      <td>3.7</td>\n",
       "      <td>6</td>\n",
       "      <td>1</td>\n",
       "    </tr>\n",
       "    <tr>\n",
       "      <th>13</th>\n",
       "      <td>680</td>\n",
       "      <td>3.3</td>\n",
       "      <td>4</td>\n",
       "      <td>0</td>\n",
       "    </tr>\n",
       "    <tr>\n",
       "      <th>14</th>\n",
       "      <td>770</td>\n",
       "      <td>3.3</td>\n",
       "      <td>3</td>\n",
       "      <td>1</td>\n",
       "    </tr>\n",
       "  </tbody>\n",
       "</table>\n",
       "</div>"
      ],
      "text/plain": [
       "    gmat  gpa  work_exp  admitted\n",
       "0    780  4.0         3         1\n",
       "1    750  3.9         4         1\n",
       "2    690  3.3         3         0\n",
       "3    710  3.7         5         1\n",
       "4    680  3.9         4         0\n",
       "5    730  3.7         6         1\n",
       "6    690  2.3         1         0\n",
       "7    720  3.3         4         1\n",
       "8    740  3.3         5         1\n",
       "9    690  1.7         1         0\n",
       "10   610  2.7         3         0\n",
       "11   690  3.7         5         1\n",
       "12   710  3.7         6         1\n",
       "13   680  3.3         4         0\n",
       "14   770  3.3         3         1"
      ]
     },
     "execution_count": 4,
     "metadata": {},
     "output_type": "execute_result"
    }
   ],
   "source": [
    "df=pd.read_csv(r\"file:///F:\\DataScience\\admission.csv\")\n",
    "df\n",
    "#We will make file of only 15 data sets in admission.csv, So our results may change from actual in lecture."
   ]
  },
  {
   "cell_type": "markdown",
   "metadata": {},
   "source": [
    "### STEP-3) Feature Selection\n",
    "Here, you need to divide the given columns into\n",
    "two types of variables, dependent(or target\n",
    "variable or response variable ) and independent\n",
    "variable(or feature variables).        \n",
    "Now, set the independent variables (represented as\n",
    "x) and the dependent variable (represented as y):"
   ]
  },
  {
   "cell_type": "code",
   "execution_count": 5,
   "metadata": {},
   "outputs": [
    {
     "name": "stdout",
     "output_type": "stream",
     "text": [
      "   gmat  gpa  work_exp\n",
      "0   780  4.0         3\n",
      "1   750  3.9         4\n",
      "2   690  3.3         3\n",
      "3   710  3.7         5\n",
      "4   680  3.9         4\n",
      "5   730  3.7         6\n"
     ]
    }
   ],
   "source": [
    "x = df[['gmat', 'gpa','work_exp']]\n",
    "y = df['admitted']\n",
    "print(x.head(6))"
   ]
  },
  {
   "cell_type": "code",
   "execution_count": 6,
   "metadata": {},
   "outputs": [
    {
     "name": "stdout",
     "output_type": "stream",
     "text": [
      "9     0\n",
      "10    0\n",
      "11    1\n",
      "12    1\n",
      "13    0\n",
      "14    1\n",
      "Name: admitted, dtype: int64\n"
     ]
    }
   ],
   "source": [
    "print(y.tail(6))"
   ]
  },
  {
   "cell_type": "markdown",
   "metadata": {},
   "source": [
    "### STEP-4) Splitting Data\n",
    "To understand model performance, dividing the\n",
    "dataset into a training set and a test set is a good\n",
    "strategy.\n",
    "Let's split dataset by using function\n",
    "train_test_split(). You need to pass 3 parameters.\n",
    "1) Features(independent variable),\n",
    "2 ) target, and\n",
    "3) test_size.\n",
    "\n",
    "Additionally, you can use random_state to select\n",
    "records randomly."
   ]
  },
  {
   "cell_type": "code",
   "execution_count": 7,
   "metadata": {},
   "outputs": [],
   "source": [
    "# train_test_split() Fn. will return 4 values.\n",
    "# Here, the Dataset will broke into two parts in a ratioof 75:25.\n",
    "#It means 75% data will be used for model training and 25% for model testing.\n",
    "\n",
    "x_train,x_test,y_train,y_test = train_test_split(x,y,test_size=0.25,random_state=0)"
   ]
  },
  {
   "cell_type": "code",
   "execution_count": 8,
   "metadata": {},
   "outputs": [
    {
     "data": {
      "text/html": [
       "<div>\n",
       "<style scoped>\n",
       "    .dataframe tbody tr th:only-of-type {\n",
       "        vertical-align: middle;\n",
       "    }\n",
       "\n",
       "    .dataframe tbody tr th {\n",
       "        vertical-align: top;\n",
       "    }\n",
       "\n",
       "    .dataframe thead th {\n",
       "        text-align: right;\n",
       "    }\n",
       "</style>\n",
       "<table border=\"1\" class=\"dataframe\">\n",
       "  <thead>\n",
       "    <tr style=\"text-align: right;\">\n",
       "      <th></th>\n",
       "      <th>gmat</th>\n",
       "      <th>gpa</th>\n",
       "      <th>work_exp</th>\n",
       "    </tr>\n",
       "  </thead>\n",
       "  <tbody>\n",
       "    <tr>\n",
       "      <th>14</th>\n",
       "      <td>770</td>\n",
       "      <td>3.3</td>\n",
       "      <td>3</td>\n",
       "    </tr>\n",
       "    <tr>\n",
       "      <th>4</th>\n",
       "      <td>680</td>\n",
       "      <td>3.9</td>\n",
       "      <td>4</td>\n",
       "    </tr>\n",
       "    <tr>\n",
       "      <th>2</th>\n",
       "      <td>690</td>\n",
       "      <td>3.3</td>\n",
       "      <td>3</td>\n",
       "    </tr>\n",
       "    <tr>\n",
       "      <th>13</th>\n",
       "      <td>680</td>\n",
       "      <td>3.3</td>\n",
       "      <td>4</td>\n",
       "    </tr>\n",
       "    <tr>\n",
       "      <th>10</th>\n",
       "      <td>610</td>\n",
       "      <td>2.7</td>\n",
       "      <td>3</td>\n",
       "    </tr>\n",
       "    <tr>\n",
       "      <th>7</th>\n",
       "      <td>720</td>\n",
       "      <td>3.3</td>\n",
       "      <td>4</td>\n",
       "    </tr>\n",
       "    <tr>\n",
       "      <th>11</th>\n",
       "      <td>690</td>\n",
       "      <td>3.7</td>\n",
       "      <td>5</td>\n",
       "    </tr>\n",
       "    <tr>\n",
       "      <th>3</th>\n",
       "      <td>710</td>\n",
       "      <td>3.7</td>\n",
       "      <td>5</td>\n",
       "    </tr>\n",
       "    <tr>\n",
       "      <th>0</th>\n",
       "      <td>780</td>\n",
       "      <td>4.0</td>\n",
       "      <td>3</td>\n",
       "    </tr>\n",
       "    <tr>\n",
       "      <th>5</th>\n",
       "      <td>730</td>\n",
       "      <td>3.7</td>\n",
       "      <td>6</td>\n",
       "    </tr>\n",
       "    <tr>\n",
       "      <th>12</th>\n",
       "      <td>710</td>\n",
       "      <td>3.7</td>\n",
       "      <td>6</td>\n",
       "    </tr>\n",
       "  </tbody>\n",
       "</table>\n",
       "</div>"
      ],
      "text/plain": [
       "    gmat  gpa  work_exp\n",
       "14   770  3.3         3\n",
       "4    680  3.9         4\n",
       "2    690  3.3         3\n",
       "13   680  3.3         4\n",
       "10   610  2.7         3\n",
       "7    720  3.3         4\n",
       "11   690  3.7         5\n",
       "3    710  3.7         5\n",
       "0    780  4.0         3\n",
       "5    730  3.7         6\n",
       "12   710  3.7         6"
      ]
     },
     "execution_count": 8,
     "metadata": {},
     "output_type": "execute_result"
    }
   ],
   "source": [
    "x_train"
   ]
  },
  {
   "cell_type": "code",
   "execution_count": 9,
   "metadata": {},
   "outputs": [
    {
     "data": {
      "text/plain": [
       "14    1\n",
       "4     0\n",
       "2     0\n",
       "13    0\n",
       "10    0\n",
       "7     1\n",
       "11    1\n",
       "3     1\n",
       "0     1\n",
       "5     1\n",
       "12    1\n",
       "Name: admitted, dtype: int64"
      ]
     },
     "execution_count": 9,
     "metadata": {},
     "output_type": "execute_result"
    }
   ],
   "source": [
    "y_train"
   ]
  },
  {
   "cell_type": "code",
   "execution_count": 10,
   "metadata": {},
   "outputs": [
    {
     "name": "stdout",
     "output_type": "stream",
     "text": [
      "   gmat  gpa  work_exp\n",
      "1   750  3.9         4\n",
      "6   690  2.3         1\n",
      "8   740  3.3         5\n",
      "9   690  1.7         1\n"
     ]
    }
   ],
   "source": [
    "print(x_test)"
   ]
  },
  {
   "cell_type": "code",
   "execution_count": 11,
   "metadata": {},
   "outputs": [
    {
     "name": "stdout",
     "output_type": "stream",
     "text": [
      "1    1\n",
      "6    0\n",
      "8    1\n",
      "9    0\n",
      "Name: admitted, dtype: int64\n"
     ]
    }
   ],
   "source": [
    "print(y_test)"
   ]
  },
  {
   "cell_type": "markdown",
   "metadata": {},
   "source": [
    "### STEP-5) Building Logistic Regression Model\n",
    "First, import the Logistic Regression module and\n",
    "create a Logistic Regression classifier object using\n",
    "LogisticRegression() function.               \n",
    "Then, fit your model on the train set using fit() and\n",
    "perform prediction on the test set using predict()."
   ]
  },
  {
   "cell_type": "code",
   "execution_count": 12,
   "metadata": {},
   "outputs": [],
   "source": [
    "# Creating Logistic Regression (LR) object\n",
    "LR_model= LogisticRegression()"
   ]
  },
  {
   "cell_type": "code",
   "execution_count": 13,
   "metadata": {},
   "outputs": [
    {
     "data": {
      "text/plain": [
       "LogisticRegression()"
      ]
     },
     "execution_count": 13,
     "metadata": {},
     "output_type": "execute_result"
    }
   ],
   "source": [
    "# fit the model with data\n",
    "LR_model.fit(x_train,y_train)"
   ]
  },
  {
   "cell_type": "code",
   "execution_count": 14,
   "metadata": {},
   "outputs": [
    {
     "name": "stdout",
     "output_type": "stream",
     "text": [
      "[1 0 1 0]\n"
     ]
    }
   ],
   "source": [
    "y_pred=LR_model.predict(x_test)\n",
    "print(y_pred)"
   ]
  },
  {
   "cell_type": "code",
   "execution_count": 15,
   "metadata": {},
   "outputs": [
    {
     "data": {
      "text/plain": [
       "array([1, 0, 1, 0], dtype=int64)"
      ]
     },
     "execution_count": 15,
     "metadata": {},
     "output_type": "execute_result"
    }
   ],
   "source": [
    "# or\n",
    "y_pred"
   ]
  },
  {
   "cell_type": "code",
   "execution_count": 16,
   "metadata": {},
   "outputs": [
    {
     "data": {
      "text/plain": [
       "1    1\n",
       "6    0\n",
       "8    1\n",
       "9    0\n",
       "Name: admitted, dtype: int64"
      ]
     },
     "execution_count": 16,
     "metadata": {},
     "output_type": "execute_result"
    }
   ],
   "source": [
    "# let's compare with actual values\n",
    "y_test"
   ]
  },
  {
   "cell_type": "markdown",
   "metadata": {},
   "source": [
    "### STEP-6) Evaluating Model\n",
    "Let's estimate, how accurately the classifier or\n",
    "model can predict the type of cultivars.\n",
    "Accuracy can be computed by comparing actual\n",
    "test set values and predicted values.\n"
   ]
  },
  {
   "cell_type": "code",
   "execution_count": 17,
   "metadata": {},
   "outputs": [
    {
     "name": "stdout",
     "output_type": "stream",
     "text": [
      "Accuracy of your RL_model : 1.0\n"
     ]
    }
   ],
   "source": [
    "from sklearn import metrics\n",
    "print(\"Accuracy of your RL_model :\",metrics.accuracy_score(y_test,y_pred))"
   ]
  },
  {
   "cell_type": "markdown",
   "metadata": {},
   "source": [
    "###### More Predictions Examples (can be Out of sample)"
   ]
  },
  {
   "cell_type": "code",
   "execution_count": 18,
   "metadata": {},
   "outputs": [
    {
     "name": "stdout",
     "output_type": "stream",
     "text": [
      "[0]\n"
     ]
    }
   ],
   "source": [
    "# Let's predict whether the candidate with gmat score of 690, GPA of 3.8 \n",
    "# and work experience 3 years will get the admission into the university or not.\n",
    "\n",
    "adm = LR_model.predict([[690,3.8,3]])  # will pass only 2D array\n",
    "print(adm)"
   ]
  },
  {
   "cell_type": "code",
   "execution_count": 19,
   "metadata": {},
   "outputs": [
    {
     "name": "stdout",
     "output_type": "stream",
     "text": [
      "[1]\n"
     ]
    }
   ],
   "source": [
    "# Let's predict whether the candidate with gmat score of 600, GPA of 3 \n",
    "# and work experience 5 years will get the admission into the university or not.\n",
    "\n",
    "adm = LR_model.predict([[699,0,0]])  # will pass only 2D array\n",
    "print(adm)\n",
    "\n",
    "# NOTE:\n",
    "# In above cases it is much depending on \"gmat score\" because we have only few data(15 rows data) for train the model, \n",
    "# whereas our tutor used minimum of 40 rows data. That's why its predictions may wrong many times."
   ]
  },
  {
   "cell_type": "markdown",
   "metadata": {},
   "source": [
    "### STEP-7) Model Evaluation using Confusion Matrix\n",
    "\n",
    "A confusion matrix is a table that is used to\n",
    "evaluate the performance of a classification model.\n",
    "You can also visualize the performance of an\n",
    "algorithm. The fundamental of a confusion matrix\n",
    "is the number of correct and incorrect predictions\n",
    "are summed up class-wise.\n",
    "\n",
    "In the case of binary classification, the confusion\n",
    "matrix shows the numbers of the following:\n",
    "\n",
    "1) True negatives in the upper-left position: \n",
    "We predicted no, and they don’t get admission. \n",
    "\n",
    "2) False negatives in the lower-left position: \n",
    "We predicted no, but they actually get the admission.\n",
    "\n",
    "3) False positives in the upper-right position: \n",
    "We predicted yes, but they don’t get the admission.\n",
    "\n",
    "4) True positives in the lower-right position: \n",
    "These are cases in which we predicted and they get the admission.\n",
    "\n",
    "Here, you can see the confusion matrix in the form\n",
    "of the array object. The dimension of this matrix is\n",
    "2*2 because this model is binary classification. You\n",
    "have two classes 0 and 1. Diagonal values\n",
    "represent accurate predictions, while non-diagonal\n",
    "elements are inaccurate predictions. In the output,\n",
    "2 and 2 are correct predictions, and 0 and 0 are\n",
    "incorrect predictions.\n",
    "\n",
    "This means out of 4, we got 4 correct prediction\n",
    "and 0 incorrect prediction."
   ]
  },
  {
   "cell_type": "code",
   "execution_count": 20,
   "metadata": {},
   "outputs": [
    {
     "name": "stdout",
     "output_type": "stream",
     "text": [
      "Diagonal values's SUM will show total no. of correct predictions.\n"
     ]
    },
    {
     "data": {
      "text/plain": [
       "array([[2, 0],\n",
       "       [0, 2]], dtype=int64)"
      ]
     },
     "execution_count": 20,
     "metadata": {},
     "output_type": "execute_result"
    }
   ],
   "source": [
    "# comparing the y_pred(predicted values) with y_test(actual values)\n",
    "from sklearn import metrics\n",
    "cnf_matrix = metrics.confusion_matrix(y_test,y_pred)\n",
    "print(\"Diagonal values's SUM will show total no. of correct predictions.\")\n",
    "cnf_matrix"
   ]
  },
  {
   "cell_type": "markdown",
   "metadata": {},
   "source": [
    "### STEP-8) Visualizing Confusion Matrix using Heatmap :\n",
    "        \n",
    "Let's visualize the results of the model in the form\n",
    "of a confusion matrix using matplotlib and seaborn.\n"
   ]
  },
  {
   "cell_type": "code",
   "execution_count": 21,
   "metadata": {},
   "outputs": [],
   "source": [
    "# The %matplotlib inline will make your plot outputs appear and be stored\n",
    "# within the notebook.\n",
    "import seaborn as sb\n",
    "%matplotlib inline"
   ]
  },
  {
   "cell_type": "code",
   "execution_count": 22,
   "metadata": {},
   "outputs": [
    {
     "data": {
      "text/plain": [
       "Text(0.5, 15.0, 'Predicted label')"
      ]
     },
     "execution_count": 22,
     "metadata": {},
     "output_type": "execute_result"
    },
    {
     "data": {
      "image/png": "[encoded data removed]",
      "text/plain": [
       "<Figure size 432x288 with 2 Axes>"
      ]
     },
     "metadata": {
      "needs_background": "light"
     },
     "output_type": "display_data"
    }
   ],
   "source": [
    "sb.heatmap(pd.DataFrame(cnf_matrix))\n",
    "plt.title('Confusion matrix for \"Logistic Regression\" Classifier')\n",
    "plt.ylabel('Actual label')\n",
    "plt.xlabel('Predicted label')"
   ]
  },
  {
   "cell_type": "code",
   "execution_count": 24,
   "metadata": {},
   "outputs": [
    {
     "data": {
      "text/plain": [
       "Text(0.5, 15.0, 'Predicted label')"
      ]
     },
     "execution_count": 24,
     "metadata": {},
     "output_type": "execute_result"
    },
    {
     "data": {
      "image/png": "[encoded data removed]",
      "text/plain": [
       "<Figure size 432x288 with 2 Axes>"
      ]
     },
     "metadata": {
      "needs_background": "light"
     },
     "output_type": "display_data"
    }
   ],
   "source": [
    "sb.heatmap(pd.DataFrame(cnf_matrix), annot=True)\n",
    "plt.title('Confusion matrix for \"Logistic Regression\" Classifier')\n",
    "plt.ylabel('Actual label')\n",
    "plt.xlabel('Predicted label')"
   ]
  },
  {
   "cell_type": "markdown",
   "metadata": {},
   "source": [
    "###### Here annot – an array of same shape as data which is used to annotate the heatmap.\n",
    "> Annotate :add notes to (a text or diagram) giving explanation or comment"
   ]
  },
  {
   "cell_type": "code",
   "execution_count": null,
   "metadata": {},
   "outputs": [],
   "source": []
  }
 ],
 "metadata": {
  "kernelspec": {
   "display_name": "Python 3",
   "language": "python",
   "name": "python3"
  },
  "language_info": {
   "codemirror_mode": {
    "name": "ipython",
    "version": 3
   },
   "file_extension": ".py",
   "mimetype": "text/x-python",
   "name": "python",
   "nbconvert_exporter": "python",
   "pygments_lexer": "ipython3",
   "version": "3.8.5"
  }
 },
 "nbformat": 4,
 "nbformat_minor": 4
}
